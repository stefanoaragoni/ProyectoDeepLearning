{
 "cells": [
  {
   "cell_type": "markdown",
   "metadata": {},
   "source": [
    "### **Deep Learning - Proyecto Final**\n",
    "\n",
    "Stefano Aragoni, Carol Arévalo\n",
    "\n",
    "----------"
   ]
  },
  {
   "cell_type": "markdown",
   "metadata": {},
   "source": [
    "##### **Introducción**\n",
    "El cyberbullying es una forma de acoso que se lleva a cabo a través de medios electrónicos, como las redes sociales. Este se caracteriza por ser –en su mayoría de instancias– anónimo y por la facilidad con la que los agresores pueden unirse y atacar a las víctimas. Es un problema grave que puede tener consecuencias emocionales y psicológicas significativas para quienes lo sufren. En realidad, según varios estudios, los adolescentes víctimas de ciberacoso son 4 veces más probables a tener pensamientos suicidas a comparación de aquellos que no reciben este tipo de acoso\n",
    "\n",
    "En el presente trabajo se busca afrontar la problemática de ciberacoso en redes sociales a través de deep learning. Esto con el propósito de poder ayudar a la salud mental de aquellas personas que son víctimas de este tipo de violencia.\n",
    "\n",
    "--------"
   ]
  },
  {
   "cell_type": "markdown",
   "metadata": {},
   "source": [
    "Como primer paso, se **importaron las librerías necesarias** para el análisis exploratorio y el preprocesamiento de los datos.\n",
    "\n"
   ]
  },
  {
   "cell_type": "code",
   "execution_count": 70,
   "metadata": {},
   "outputs": [
    {
     "name": "stderr",
     "output_type": "stream",
     "text": [
      "[nltk_data] Downloading package stopwords to\n",
      "[nltk_data]     /Users/stefanoaragoni/nltk_data...\n",
      "[nltk_data]   Package stopwords is already up-to-date!\n"
     ]
    }
   ],
   "source": [
    "# Importaciones de bibliotecas estándar\n",
    "import numpy as np\n",
    "import pandas as pd\n",
    "import re\n",
    "from collections import Counter\n",
    "from copy import deepcopy\n",
    "from tqdm import tqdm\n",
    "\n",
    "# Importaciones de visualización\n",
    "import seaborn as sns\n",
    "import matplotlib.pyplot as plt\n",
    "from pandas.plotting import scatter_matrix\n",
    "from prettytable import PrettyTable\n",
    "\n",
    "# Importaciones de procesamiento de texto y NLP\n",
    "import nltk\n",
    "from nltk.corpus import stopwords\n",
    "from nltk.stem import PorterStemmer\n",
    "\n",
    "nltk.download('stopwords')\n",
    "\n",
    "# Importaciones de aprendizaje automático y ciencia de datos\n",
    "from sklearn import datasets\n",
    "from sklearn.feature_extraction.text import CountVectorizer\n",
    "from sklearn.preprocessing import LabelEncoder, OneHotEncoder\n",
    "\n",
    "import tensorflow as tf\n",
    "tf.config.set_visible_devices([], 'GPU')\n",
    "\n",
    "from keras.preprocessing.text import Tokenizer\n",
    "from keras.models import Sequential\n",
    "from keras.layers import Embedding, LSTM, Dense, BatchNormalization, Dropout\n",
    "from keras.callbacks import EarlyStopping\n",
    "from keras.regularizers import l2\n",
    "from keras.optimizers import SGD\n",
    "\n",
    "from keras.preprocessing.sequence import pad_sequences\n",
    "from sklearn.model_selection import (\n",
    "    train_test_split,\n",
    ")\n",
    "from sklearn.metrics import (\n",
    "    confusion_matrix,\n",
    "    accuracy_score,\n",
    "    classification_report\n",
    ")\n",
    "\n",
    "# Otras importaciones\n",
    "from tqdm import tqdm\n",
    "import pickle"
   ]
  },
  {
   "cell_type": "markdown",
   "metadata": {},
   "source": [
    "##### **Análisis Exploratorio**\n",
    "\n",
    "Para este proyecto, se utilizó un dataset presentado en la ‘Conferencia Internacional de Big Data’ en el 2020. Esta almacena tweets junto con una clasificación de los mismos para indicar si estos representan ciberacoso o no. A partir de esta base de datos, se realizó un análisis exploratorio. "
   ]
  },
  {
   "cell_type": "markdown",
   "metadata": {},
   "source": [
    "Primero, se **cargó el dataset** y se visualizaron las primeras 5 filas para tener una idea de la estructura de los datos.\n",
    "\n",
    "Como se puede observar, el dataset cuenta con 2 columnas: 'tweet_text' y 'cyberbullying_type'. La primera almacena el texto del tweet y la segunda indica si este representa ciberacoso o no."
   ]
  },
  {
   "cell_type": "code",
   "execution_count": 71,
   "metadata": {},
   "outputs": [
    {
     "data": {
      "text/html": [
       "<div>\n",
       "<style scoped>\n",
       "    .dataframe tbody tr th:only-of-type {\n",
       "        vertical-align: middle;\n",
       "    }\n",
       "\n",
       "    .dataframe tbody tr th {\n",
       "        vertical-align: top;\n",
       "    }\n",
       "\n",
       "    .dataframe thead th {\n",
       "        text-align: right;\n",
       "    }\n",
       "</style>\n",
       "<table border=\"1\" class=\"dataframe\">\n",
       "  <thead>\n",
       "    <tr style=\"text-align: right;\">\n",
       "      <th></th>\n",
       "      <th>tweet_text</th>\n",
       "      <th>cyberbullying_type</th>\n",
       "    </tr>\n",
       "  </thead>\n",
       "  <tbody>\n",
       "    <tr>\n",
       "      <th>0</th>\n",
       "      <td>In other words #katandandre, your food was cra...</td>\n",
       "      <td>not_cyberbullying</td>\n",
       "    </tr>\n",
       "    <tr>\n",
       "      <th>1</th>\n",
       "      <td>Why is #aussietv so white? #MKR #theblock #ImA...</td>\n",
       "      <td>not_cyberbullying</td>\n",
       "    </tr>\n",
       "    <tr>\n",
       "      <th>2</th>\n",
       "      <td>@XochitlSuckkks a classy whore? Or more red ve...</td>\n",
       "      <td>not_cyberbullying</td>\n",
       "    </tr>\n",
       "    <tr>\n",
       "      <th>3</th>\n",
       "      <td>@Jason_Gio meh. :P  thanks for the heads up, b...</td>\n",
       "      <td>not_cyberbullying</td>\n",
       "    </tr>\n",
       "    <tr>\n",
       "      <th>4</th>\n",
       "      <td>@RudhoeEnglish This is an ISIS account pretend...</td>\n",
       "      <td>not_cyberbullying</td>\n",
       "    </tr>\n",
       "  </tbody>\n",
       "</table>\n",
       "</div>"
      ],
      "text/plain": [
       "                                          tweet_text cyberbullying_type\n",
       "0  In other words #katandandre, your food was cra...  not_cyberbullying\n",
       "1  Why is #aussietv so white? #MKR #theblock #ImA...  not_cyberbullying\n",
       "2  @XochitlSuckkks a classy whore? Or more red ve...  not_cyberbullying\n",
       "3  @Jason_Gio meh. :P  thanks for the heads up, b...  not_cyberbullying\n",
       "4  @RudhoeEnglish This is an ISIS account pretend...  not_cyberbullying"
      ]
     },
     "execution_count": 71,
     "metadata": {},
     "output_type": "execute_result"
    }
   ],
   "source": [
    "#cargar dataset\n",
    "data = pd.read_csv('cyberbullying_tweets_clean.csv')\n",
    "\n",
    "# Imprimir las primeras 5 filas\n",
    "data.head()"
   ]
  },
  {
   "cell_type": "markdown",
   "metadata": {},
   "source": [
    "Con eso listo, se procedió a **visualizar la cantidad de tweets que representan ciberacoso y los que no**. \n",
    "\n",
    "\n",
    "Como se puede observar a continuación, pareciera que el dataset está balanceado. Esto debido a que cada clase cuenta con una cantidad similar de tweets. \n",
    "\n",
    "Sin embargo, religion, age, gender, ethnicity combinados representan el 80% de los tweets. Por tal motivo, al verlo como dos clases (cyberbullying y no cyberbullying) se puede observar que el dataset está desbalanceado. Esto debido a que la clase cyberbullying representa el 80% de los tweets, mientras que la clase no cyberbullying representa el 20% de los tweets."
   ]
  },
  {
   "cell_type": "code",
   "execution_count": 72,
   "metadata": {},
   "outputs": [
    {
     "name": "stdout",
     "output_type": "stream",
     "text": [
      "cyberbullying_type\n",
      "religion             7998\n",
      "age                  7992\n",
      "gender               7973\n",
      "ethnicity            7961\n",
      "not_cyberbullying    7945\n",
      "Name: count, dtype: int64\n"
     ]
    },
    {
     "data": {
      "image/png": "[encoded data removed]",
      "text/plain": [
       "<Figure size 640x480 with 1 Axes>"
      ]
     },
     "metadata": {},
     "output_type": "display_data"
    }
   ],
   "source": [
    "# Contar la frecuencia de cada valor único en la columna \"cyberbullying_type\"\n",
    "frecuencias = data['cyberbullying_type'].value_counts()\n",
    "\n",
    "# Mostrar los resultados\n",
    "print(frecuencias)\n",
    "\n",
    "# Visualizar la distribución de clases\n",
    "class_counts = data['cyberbullying_type'].value_counts()\n",
    "class_counts.plot(kind='bar')\n",
    "plt.title('Distribución de clases')\n",
    "plt.xlabel('Clases')\n",
    "plt.ylabel('Frecuencia')\n",
    "plt.show()"
   ]
  },
  {
   "cell_type": "markdown",
   "metadata": {},
   "source": [
    "Posteriormente, se quería observar la longitud promedio de los tweets. Para esto, almacenó la longitud de cada tweet en un arreglo y luego se graficó la distribución de la longitud de los tweets.\n",
    "\n",
    "En este caso, la mayoría de tweets tienen una longitud menor a 280 caracteres (que es el límite de caracteres que permite Twitter). Sin embargo, se puede observar que hay algunos tweets que tienen una longitud mayor a 280 caracteres. Por tal motivo, se procedió a eliminar estos tweets para evitar problemas en el preprocesamiento de los datos."
   ]
  },
  {
   "cell_type": "code",
   "execution_count": 73,
   "metadata": {},
   "outputs": [
    {
     "data": {
      "image/png": "[encoded data removed]",
      "text/plain": [
       "<Figure size 640x480 with 1 Axes>"
      ]
     },
     "metadata": {},
     "output_type": "display_data"
    }
   ],
   "source": [
    "# Visualizar la longitud de los tweets\n",
    "\n",
    "# Almacenar la longitud de cada tweet en una lista\n",
    "lengths = [len(tweet) for tweet in data['tweet_text']]\n",
    "\n",
    "# Crear un boxplot\n",
    "plt.boxplot(lengths)\n",
    "plt.title('Longitud de los tweets')\n",
    "plt.ylabel('Longitud')\n",
    "plt.show()\n",
    "\n",
    "# Eliminar los tweets con longitud mayor a 280 caracteres\n",
    "data = data[data['tweet_text'].map(len) <= 280]"
   ]
  },
  {
   "cell_type": "markdown",
   "metadata": {},
   "source": [
    "Asimismo, se quiso determinar la presencia de **valores nulos o vacíos en el dataset**. Para ello, se utilizó la función 'isnull()' y se sumaron los valores nulos por columna. Como se puede observar, no existen valores nulos en el dataset."
   ]
  },
  {
   "cell_type": "code",
   "execution_count": 74,
   "metadata": {},
   "outputs": [
    {
     "data": {
      "text/plain": [
       "<Axes: >"
      ]
     },
     "execution_count": 74,
     "metadata": {},
     "output_type": "execute_result"
    },
    {
     "data": {
      "image/png": "[encoded data removed]",
      "text/plain": [
       "<Figure size 640x480 with 1 Axes>"
      ]
     },
     "metadata": {},
     "output_type": "display_data"
    }
   ],
   "source": [
    "# Determinar valores nulos o faltantes\n",
    "\n",
    "# Graficar heatmap de valores nulos\n",
    "sns.heatmap(data.isnull(), cbar=False)"
   ]
  },
  {
   "cell_type": "markdown",
   "metadata": {},
   "source": [
    "Asimismo, cabe destacar que se quiso determinar si habían **datos dupllicados**. Para ello, se utilizó la función 'duplicated()' y se sumaron los valores duplicados por columna. En este caso, s´i se encontraron datos duplicados. Por ello, se procedió a eliminarlos."
   ]
  },
  {
   "cell_type": "code",
   "execution_count": 75,
   "metadata": {},
   "outputs": [
    {
     "name": "stdout",
     "output_type": "stream",
     "text": [
      "Número de datos duplicados:  58\n",
      "Número de datos duplicados (post-limpieza):  0\n"
     ]
    }
   ],
   "source": [
    "data['tweet_text'] = data['tweet_text'].str.lower()\n",
    "\n",
    "#verificar datos duplicados\n",
    "print(\"Número de datos duplicados: \", data.duplicated().sum())\n",
    "\n",
    "#eliminar datos duplicados\n",
    "data.drop_duplicates(inplace=True)\n",
    "\n",
    "#verificar datos duplicados\n",
    "print(\"Número de datos duplicados (post-limpieza): \", data.duplicated().sum())"
   ]
  },
  {
   "cell_type": "markdown",
   "metadata": {},
   "source": [
    "----------\n",
    "\n",
    "##### **Preprocesamiento de Datos**\n",
    "\n",
    "Para obtener datos más limpios se eliminaron hipervínculos, etiquetas y menciones de los comentarios. Asimismo, se eliminaron palabras vacías del idioma inglés que no aportan ninguna información relevante al modelo. En base a esto, se analizó cuáles eran las palabras más comunes en la base de datos. "
   ]
  },
  {
   "cell_type": "code",
   "execution_count": 76,
   "metadata": {},
   "outputs": [
    {
     "name": "stderr",
     "output_type": "stream",
     "text": [
      "100%|██████████| 39114/39114 [00:52<00:00, 738.48it/s]\n"
     ]
    }
   ],
   "source": [
    "# Remover URLs, menciones y hashtags\n",
    "new_tweets = []\n",
    "new_types = []\n",
    "\n",
    "def remove_urls_mentions_hashtags(text, type):\n",
    "\n",
    "    text = text.lower()\n",
    "    text = re.sub(r'http\\S+', '', text) # URLs\n",
    "    text = re.sub(r'@\\S+', '', text) # Menciones\n",
    "    text = re.sub(r'#\\S+', ' ', text) # Hashtags\n",
    "    text = re.sub('<.*?>', '', text) # HTML tags\n",
    "    text = re.sub('[^a-zA-Z]', ' ', text) # Puntuación y números\n",
    "\n",
    "    text = text.replace('rt', '')\n",
    "\n",
    "    stemmer = PorterStemmer()\n",
    "    text = text.split()\n",
    "    text = [stemmer.stem(word) for word in text if not word in set(stopwords.words('english'))]\n",
    "    text = ' '.join(text)\n",
    "\n",
    "    return text, type\n",
    "\n",
    "for i in tqdm(range(len(data))):\n",
    "    try:\n",
    "        text, type = remove_urls_mentions_hashtags(data['tweet_text'][i], data['cyberbullying_type'][i])\n",
    "\n",
    "        if text == '':\n",
    "            continue\n",
    "\n",
    "        new_tweets.append(text)\n",
    "        new_types.append(type)\n",
    "    except:\n",
    "        pass\n",
    "\n",
    "data = pd.DataFrame({\n",
    "    'tweet_text': new_tweets,\n",
    "    'cyberbullying_type': new_types\n",
    "})"
   ]
  },
  {
   "cell_type": "markdown",
   "metadata": {},
   "source": [
    "Después de haber realizado la limpieza de los tweets, se procedió a analizar **cuáles eran las palabras más comunes** en la base de datos. Para ello, se utilizó la función 'most_common()' de la librería 'collections'.\n",
    "\n",
    "Como se puede observar, insultos y palabras ofensivas son las palabras más comunes en el dataset."
   ]
  },
  {
   "cell_type": "code",
   "execution_count": 77,
   "metadata": {},
   "outputs": [
    {
     "name": "stdout",
     "output_type": "stream",
     "text": [
      "+---------+------------+\n",
      "| Palabra | Frecuencia |\n",
      "+---------+------------+\n",
      "|  bulli  |   10117    |\n",
      "|  school |    8984    |\n",
      "|   fuck  |    6785    |\n",
      "|   like  |    5615    |\n",
      "|   joke  |    5442    |\n",
      "|   girl  |    5377    |\n",
      "|  nigger |    5156    |\n",
      "|   high  |    5096    |\n",
      "|   dumb  |    4828    |\n",
      "|  muslim |    4745    |\n",
      "+---------+------------+\n"
     ]
    }
   ],
   "source": [
    "# Frecuencia de cada palabra\n",
    "tweets = ' '.join(data['tweet_text'].values)\n",
    "words = tweets.split()\n",
    "\n",
    "frecuencia = Counter(words).most_common(10)\n",
    "\n",
    "table = PrettyTable()\n",
    "table.field_names = ['Palabra', 'Frecuencia']\n",
    "for i in range(len(frecuencia)):\n",
    "    table.add_row([frecuencia[i][0], frecuencia[i][1]])\n",
    "\n",
    "print(table)\n"
   ]
  },
  {
   "cell_type": "markdown",
   "metadata": {},
   "source": [
    "Asimismo, se procedió a **visualizar las palabras más comunes en los tweets que representan ciberacoso**. Nuevamente, insultos y palabras ofensivas son las palabras más comunes en el dataset."
   ]
  },
  {
   "cell_type": "code",
   "execution_count": 78,
   "metadata": {},
   "outputs": [
    {
     "data": {
      "image/png": "[encoded data removed]",
      "text/plain": [
       "<Figure size 640x480 with 1 Axes>"
      ]
     },
     "metadata": {},
     "output_type": "display_data"
    }
   ],
   "source": [
    "# Visualizar las palabras más frecuentes\n",
    "plt.bar(*zip(*frecuencia))\n",
    "plt.title('Top palabras más frecuentes')\n",
    "plt.xlabel('Palabras')\n",
    "plt.ylabel('Frecuencia')\n",
    "plt.show()"
   ]
  },
  {
   "cell_type": "markdown",
   "metadata": {},
   "source": [
    "Finalmente, se prosiguió a **encodear las etiquetas de los tweets**. Para ello, se utilizó la función 'LabelEncoder()' de la librería 'sklearn'."
   ]
  },
  {
   "cell_type": "code",
   "execution_count": 79,
   "metadata": {},
   "outputs": [
    {
     "name": "stdout",
     "output_type": "stream",
     "text": [
      "Clases: ['age' 'ethnicity' 'gender' 'not_cyberbullying' 'religion']\n",
      "Códigos: [0 1 2 3 4]\n"
     ]
    }
   ],
   "source": [
    "# Encodificar las clases\n",
    "label_encoder = LabelEncoder()\n",
    "data['cyberbullying_type'] = label_encoder.fit_transform(data['cyberbullying_type'])\n",
    "\n",
    "# Imprimir las clases y sus respectivos códigos\n",
    "print('Clases:', label_encoder.classes_)\n",
    "print('Códigos:', label_encoder.transform(label_encoder.classes_))\n"
   ]
  },
  {
   "cell_type": "code",
   "execution_count": 80,
   "metadata": {},
   "outputs": [
    {
     "data": {
      "text/html": [
       "<div>\n",
       "<style scoped>\n",
       "    .dataframe tbody tr th:only-of-type {\n",
       "        vertical-align: middle;\n",
       "    }\n",
       "\n",
       "    .dataframe tbody tr th {\n",
       "        vertical-align: top;\n",
       "    }\n",
       "\n",
       "    .dataframe thead th {\n",
       "        text-align: right;\n",
       "    }\n",
       "</style>\n",
       "<table border=\"1\" class=\"dataframe\">\n",
       "  <thead>\n",
       "    <tr style=\"text-align: right;\">\n",
       "      <th></th>\n",
       "      <th>tweet_text</th>\n",
       "      <th>cyberbullying_type</th>\n",
       "    </tr>\n",
       "  </thead>\n",
       "  <tbody>\n",
       "    <tr>\n",
       "      <th>0</th>\n",
       "      <td>word food crapilici</td>\n",
       "      <td>3</td>\n",
       "    </tr>\n",
       "    <tr>\n",
       "      <th>1</th>\n",
       "      <td>white</td>\n",
       "      <td>3</td>\n",
       "    </tr>\n",
       "    <tr>\n",
       "      <th>2</th>\n",
       "      <td>classi whore red velvet cupcak</td>\n",
       "      <td>3</td>\n",
       "    </tr>\n",
       "    <tr>\n",
       "      <th>3</th>\n",
       "      <td>meh p thank head concern anoth angri dude twitter</td>\n",
       "      <td>3</td>\n",
       "    </tr>\n",
       "    <tr>\n",
       "      <th>4</th>\n",
       "      <td>isi account pretend kurdish account like islam...</td>\n",
       "      <td>3</td>\n",
       "    </tr>\n",
       "    <tr>\n",
       "      <th>5</th>\n",
       "      <td>ye test god good bad indiffer weird whatev pro...</td>\n",
       "      <td>3</td>\n",
       "    </tr>\n",
       "    <tr>\n",
       "      <th>6</th>\n",
       "      <td>itu sekolah ya bukan tempat bulli ga jauh kaya...</td>\n",
       "      <td>3</td>\n",
       "    </tr>\n",
       "    <tr>\n",
       "      <th>7</th>\n",
       "      <td>karma hope bite kat butt nasti</td>\n",
       "      <td>3</td>\n",
       "    </tr>\n",
       "    <tr>\n",
       "      <th>8</th>\n",
       "      <td>everyth mostli priest</td>\n",
       "      <td>3</td>\n",
       "    </tr>\n",
       "    <tr>\n",
       "      <th>9</th>\n",
       "      <td>rebecca black drop school due bulli</td>\n",
       "      <td>3</td>\n",
       "    </tr>\n",
       "  </tbody>\n",
       "</table>\n",
       "</div>"
      ],
      "text/plain": [
       "                                          tweet_text  cyberbullying_type\n",
       "0                                word food crapilici                   3\n",
       "1                                              white                   3\n",
       "2                     classi whore red velvet cupcak                   3\n",
       "3  meh p thank head concern anoth angri dude twitter                   3\n",
       "4  isi account pretend kurdish account like islam...                   3\n",
       "5  ye test god good bad indiffer weird whatev pro...                   3\n",
       "6  itu sekolah ya bukan tempat bulli ga jauh kaya...                   3\n",
       "7                     karma hope bite kat butt nasti                   3\n",
       "8                              everyth mostli priest                   3\n",
       "9                rebecca black drop school due bulli                   3"
      ]
     },
     "execution_count": 80,
     "metadata": {},
     "output_type": "execute_result"
    }
   ],
   "source": [
    "data.head(10)"
   ]
  },
  {
   "cell_type": "markdown",
   "metadata": {},
   "source": [
    "-----------\n",
    "\n",
    "##### **Preparación de Modelos**\n",
    "\n",
    "Para este proyecto, se crearon 2 modelos diferentes.\n",
    "\n",
    "El primer modelo es un modelo de **clasificación binaria**. Este modelo tiene como objetivo clasificar los tweets en 2 clases: cyberbullying y no cyberbullying. Para ello, se utilizó la columna 'cyberbullying_type' del dataset.\n",
    "\n",
    "El segundo modelo se centra en **detectar el tipo de ciberacoso** presente, considerando la edad, género, religión y etnia como posibles categorías.\n",
    "\n",
    "\n",
    "Se busca crear 2 modelos para pasarle al primero un tweet y que este nos diga si representa ciberacoso o no. En caso de que el tweet represente ciberacoso, se le pasará al segundo modelo para que nos diga qué tipo de ciberacoso es."
   ]
  },
  {
   "cell_type": "code",
   "execution_count": 81,
   "metadata": {},
   "outputs": [
    {
     "name": "stdout",
     "output_type": "stream",
     "text": [
      "\n",
      "Modelo 1: Cyberbullying vs. Not Cyberbullying\n",
      "\n",
      "cyberbullying_type\n",
      "0    7740\n",
      "1    7740\n",
      "Name: count, dtype: int64\n"
     ]
    }
   ],
   "source": [
    "modelo1 = data.__deepcopy__()\n",
    "modelo2 = data.__deepcopy__()\n",
    "\n",
    "# Modelo 1: Cyberbullying vs. Not Cyberbullying\n",
    "\n",
    "# Separate `not_cyberbullying` and `cyberbullying` data\n",
    "not_cyberbullying = modelo1[modelo1['cyberbullying_type'] == 3]\n",
    "age = modelo1[modelo1['cyberbullying_type'] == 0]\n",
    "ethnicity = modelo1[modelo1['cyberbullying_type'] == 1]\n",
    "gender = modelo1[modelo1['cyberbullying_type'] == 2]\n",
    "religion = modelo1[modelo1['cyberbullying_type'] == 4]\n",
    "\n",
    "sample_size = int(len(not_cyberbullying)/4)\n",
    "sampled_age = age.sample(n=sample_size, replace=True, random_state=42)\n",
    "sampled_gender = gender.sample(n=sample_size, replace=True, random_state=42)\n",
    "sampled_religion = religion.sample(n=sample_size, replace=True, random_state=42)\n",
    "sampled_ethnicity = ethnicity.sample(n=sample_size, replace=True, random_state=42)\n",
    "\n",
    "# Combine `sampled_cyberbullying` and `not_cyberbullying` data to create a new balanced dataframe\n",
    "modelo1 = pd.concat([not_cyberbullying, sampled_gender, sampled_age, sampled_ethnicity, sampled_religion])\n",
    "\n",
    "# Remplazar label age, gender, religion, ethnicity por 1\n",
    "modelo1['cyberbullying_type'] = modelo1['cyberbullying_type'].replace([0, 1, 2, 4], 1)\n",
    "\n",
    "# Remplazar label not_cyberbullying por 0\n",
    "modelo1['cyberbullying_type'] = modelo1['cyberbullying_type'].replace([3], 0)\n",
    "\n",
    "# Contar la frecuencia de cada valor único en la columna \"cyberbullying_type\"\n",
    "frecuencias = modelo1['cyberbullying_type'].value_counts()\n",
    "\n",
    "# Mostrar los resultados\n",
    "print(\"\\nModelo 1: Cyberbullying vs. Not Cyberbullying\\n\")\n",
    "print(frecuencias)"
   ]
  },
  {
   "cell_type": "code",
   "execution_count": 82,
   "metadata": {},
   "outputs": [
    {
     "name": "stdout",
     "output_type": "stream",
     "text": [
      "\n",
      "Modelo 2: Cyberbullying Type\n",
      "\n",
      "cyberbullying_type\n",
      "0    7804\n",
      "2    7770\n",
      "3    7740\n",
      "1    7104\n",
      "Name: count, dtype: int64\n"
     ]
    }
   ],
   "source": [
    "# Modelo 2: Tipos de Cyberbullying\n",
    "\n",
    "# Separate `not_cyberbullying` and `cyberbullying` data\n",
    "age = modelo2[modelo2['cyberbullying_type'] == 0]\n",
    "ethnicity = modelo2[modelo2['cyberbullying_type'] == 1]\n",
    "gender = modelo2[modelo2['cyberbullying_type'] == 2]\n",
    "religion = modelo2[modelo2['cyberbullying_type'] == 3]\n",
    "\n",
    "# Combine `sampled_cyberbullying` and `not_cyberbullying` data to create a new balanced dataframe\n",
    "modelo2 = pd.concat([gender, age, ethnicity, religion])\n",
    "\n",
    "# Contar la frecuencia de cada valor único en la columna \"cyberbullying_type\"\n",
    "frecuencias = modelo2['cyberbullying_type'].value_counts()\n",
    "\n",
    "# Mostrar los resultados\n",
    "print(\"\\nModelo 2: Cyberbullying Type\\n\")\n",
    "print(frecuencias)"
   ]
  },
  {
   "cell_type": "markdown",
   "metadata": {},
   "source": [
    "Con los dos datasets creados, se procedió a **dividirlos en datos de entrenamiento y datos de prueba**. Para ello, se utilizó la función 'train_test_split()' de la librería 'sklearn.model_selection'.\n",
    "\n"
   ]
  },
  {
   "cell_type": "code",
   "execution_count": 83,
   "metadata": {},
   "outputs": [],
   "source": [
    "X_train_m1, X_test_m1, y_train_m1, y_test_m1 = train_test_split(modelo1['tweet_text'], modelo1['cyberbullying_type'], test_size=0.2, random_state=42)\n",
    "\n",
    "X_train_m2, X_test_m2, y_train_m2, y_test_m2 = train_test_split(modelo2['tweet_text'], modelo2['cyberbullying_type'], test_size=0.2, random_state=42)"
   ]
  },
  {
   "cell_type": "markdown",
   "metadata": {},
   "source": [
    "-----------\n",
    "\n",
    "##### **Diseño y Entrenamiento de Modelos (LSTM)**\n",
    "\n",
    "Como primer paso, se tokenizaron los tweets para poder alimentar los modelos LSTM. Para ello, se utilizó la función 'Tokenizer()' de la librería 'keras.preprocessing.text'."
   ]
  },
  {
   "cell_type": "code",
   "execution_count": 84,
   "metadata": {},
   "outputs": [],
   "source": [
    "# Tokenización de texto de Modelo 1\n",
    "tokenizer1 = Tokenizer()\n",
    "tokenizer1.fit_on_texts(X_train_m1)\n",
    "X_train_sequences_m1 = tokenizer1.texts_to_sequences(X_train_m1)\n",
    "X_valid_sequences_m1 = tokenizer1.texts_to_sequences(X_test_m1)\n",
    "\n",
    "# Tokenización de texto de Modelo 2\n",
    "tokenizer2 = Tokenizer()\n",
    "tokenizer2.fit_on_texts(X_train_m2)\n",
    "X_train_sequences_m2 = tokenizer2.texts_to_sequences(X_train_m2)\n",
    "X_valid_sequences_m2 = tokenizer2.texts_to_sequences(X_test_m2)"
   ]
  },
  {
   "cell_type": "markdown",
   "metadata": {},
   "source": [
    "Posteriormente, se secuenció y rellenó los diferentes comentarios para que todos tengan una longitud uniforme. En este caso se utilizó una longitud 200.\n",
    "\n",
    "sequence.pad_sequences es una función de Keras que se utiliza para rellenar las secuencias. Si se pasa del largo máximo, se trunca la secuencia. Si es menor, se rellena con ceros."
   ]
  },
  {
   "cell_type": "code",
   "execution_count": 85,
   "metadata": {},
   "outputs": [],
   "source": [
    "# Padding de secuencias para que tengan la misma longitud\n",
    "max_length = 280  # longitud máxima de una secuencia\n",
    "\n",
    "X_train_m1_padded = pad_sequences(X_train_sequences_m1, maxlen=max_length)\n",
    "X_valid_m1_padded = pad_sequences(X_valid_sequences_m1, maxlen=max_length)\n",
    "\n",
    "X_train_m2_padded = pad_sequences(X_train_sequences_m2, maxlen=max_length)\n",
    "X_valid_m2_padded = pad_sequences(X_valid_sequences_m2, maxlen=max_length)"
   ]
  },
  {
   "cell_type": "markdown",
   "metadata": {},
   "source": [
    "Cuando ya se tenía los datos de entrenamiento y prueba, se procedió a **diseñar y entrenar el primer modelo**. Para ello, se utilizó la función 'Sequential()' de la librería 'keras.models'."
   ]
  },
  {
   "cell_type": "markdown",
   "metadata": {},
   "source": [
    "El primer modelo, como se mencionó anteriormente, es un modelo de clasificación binaria. Este modelo tiene como objetivo clasificar los tweets en 2 clases: cyberbullying y no cyberbullying. Para ello, se utilizó la columna 'cyberbullying_type' del dataset.\n",
    "\n",
    "Asimismo, se realizó una serie de modelos LSTM con diferentes parámetros para determinar cuál era el mejor modelo. A continuación, se presentan todos los modelos que se realizaron."
   ]
  },
  {
   "cell_type": "code",
   "execution_count": 86,
   "metadata": {},
   "outputs": [
    {
     "name": "stdout",
     "output_type": "stream",
     "text": [
      "Test Loss: 0.31883862614631653, Test Accuracy: 0.9114987254142761\n"
     ]
    }
   ],
   "source": [
    "# ---------------------- Modelo 1 - VERSION 1 ----------------------\n",
    "#                CYBERBULLYING VS. NOT CYBERBULLYING\n",
    "\n",
    "# 2 capas LSTM con 50 y 25 unidades respectivamente, DROP-OUT 0.3, L2 0.01           \n",
    "# 1 capa oculta con 20 unidades, L2 0.01        (relu)                                  \n",
    "# 1 capa de salida con 1 unidad, L2 0.01        (sigmoid)\n",
    "\n",
    "# Loss: binary_crossentropy\n",
    "# Optimizador: adam                                                         \n",
    "\n",
    "# Batch size: 128                                                           \n",
    "# Epochs: 5\n",
    "# -----------------------------------------------------------------\n",
    "\n",
    "# Crear modelo\n",
    "model1_lstm = Sequential()\n",
    "model1_lstm.add(Embedding(input_dim=len(tokenizer1.word_index)+1, output_dim=128, input_length=max_length))\n",
    "model1_lstm.add(LSTM(units=50, dropout=0.3, recurrent_dropout=0.3, return_sequences=True, kernel_regularizer=l2(0.01)))\n",
    "model1_lstm.add(LSTM(units=25, dropout=0.3, recurrent_dropout=0.3, return_sequences=False, kernel_regularizer=l2(0.01)))\n",
    "model1_lstm.add(Dense(units=20, activation='relu', kernel_regularizer=l2(0.01)))\n",
    "model1_lstm.add(Dense(units=1, activation='sigmoid'))\n",
    "\n",
    "# Compilar modelo\n",
    "model1_lstm.compile(loss='binary_crossentropy', optimizer='adam', metrics=['accuracy'])\n",
    "\n",
    "# Early stopping\n",
    "early_stopping = EarlyStopping(monitor='val_loss', patience=2, restore_best_weights=True)\n",
    "\n",
    "# Entrenar modelo\n",
    "model1_lstm.fit(X_train_m1_padded, y_train_m1, batch_size=128, epochs=5, validation_data=(X_valid_m1_padded, y_test_m1), callbacks=[early_stopping], verbose=0)\n",
    "\n",
    "# Resultados de entrenamiento\n",
    "loss, accuracy = model1_lstm.evaluate(X_valid_m1_padded, y_test_m1, verbose=False)\n",
    "print(f\"Test Loss: {loss}, Test Accuracy: {accuracy}\")\n",
    "\n",
    "# 4 MINUTOS 53 SEGUNDOS\n",
    "# ACCURACY: 0.9102067351341248"
   ]
  },
  {
   "cell_type": "code",
   "execution_count": 87,
   "metadata": {},
   "outputs": [
    {
     "name": "stdout",
     "output_type": "stream",
     "text": [
      "Test Loss: 0.23040001094341278, Test Accuracy: 0.9134367108345032\n"
     ]
    }
   ],
   "source": [
    "# ---------------------- Modelo 1 - VERSION 2 ----------------------\n",
    "#                CYBERBULLYING VS. NOT CYBERBULLYING\n",
    "\n",
    "# 2 capas LSTM con 64 y 32 unidades respectivamente, DROP-OUT 0.2           # SE AUMENTA LA CANTIDAD DE UNIDADES (de 50 a 64 y de 25 a 32), SE DISMINUYE EL DROP-OUT (de 0.3 a 0.2), SE ELIMINA L2\n",
    "# 1 capa oculta con 16 unidades     (relu)                                  # SE DISMINUYE LA CANTIDAD DE UNIDADES (de 20 a 16), SE ELIMINA L2\n",
    "# 1 capa de salida con 1 unidad     (sigmoid)\n",
    "\n",
    "# Loss: binary_crossentropy\n",
    "# Optimizador: adam\n",
    "\n",
    "# Batch size: 256                                                           # SE AUMENTA EL BATCH SIZE (de 128 a 256)\n",
    "# Epochs: 5\n",
    "# -----------------------------------------------------------------\n",
    "\n",
    "# Crear modelo\n",
    "model1_lstm = Sequential()\n",
    "model1_lstm.add(Embedding(input_dim=len(tokenizer1.word_index)+1, output_dim=128, input_length=max_length))\n",
    "model1_lstm.add(LSTM(units=64, dropout=0.2, recurrent_dropout=0.2, return_sequences=True))\n",
    "model1_lstm.add(LSTM(units=32, dropout=0.2, recurrent_dropout=0.2, return_sequences=False))\n",
    "model1_lstm.add(Dense(units=16, activation='relu'))\n",
    "model1_lstm.add(Dense(units=1, activation='sigmoid'))\n",
    "\n",
    "# Compilar modelo\n",
    "model1_lstm.compile(loss='binary_crossentropy', optimizer='adam', metrics=['accuracy'])\n",
    "\n",
    "# Early stopping\n",
    "early_stopping = EarlyStopping(monitor='val_loss', patience=2, restore_best_weights=True)\n",
    "\n",
    "# Entrenar modelo\n",
    "model1_lstm.fit(X_train_m1_padded, y_train_m1, batch_size=256, epochs=5, validation_data=(X_valid_m1_padded, y_test_m1), callbacks=[early_stopping], verbose=0)\n",
    "\n",
    "# Resultados de entrenamiento\n",
    "loss, accuracy = model1_lstm.evaluate(X_valid_m1_padded, y_test_m1, verbose=False)\n",
    "print(f\"Test Loss: {loss}, Test Accuracy: {accuracy}\")\n",
    "\n",
    "# 3 MINUTOS 49 SEGUNDOS\n",
    "# ACCURACY: 0.9127907156944275"
   ]
  },
  {
   "cell_type": "code",
   "execution_count": 107,
   "metadata": {},
   "outputs": [
    {
     "name": "stdout",
     "output_type": "stream",
     "text": [
      "Epoch 1/10\n",
      "49/49 [==============================] - 113s 2s/step - loss: 0.4647 - accuracy: 0.7817 - val_loss: 0.2597 - val_accuracy: 0.8902\n",
      "Epoch 2/10\n",
      "49/49 [==============================] - 116s 2s/step - loss: 0.1950 - accuracy: 0.9283 - val_loss: 0.2282 - val_accuracy: 0.9170\n",
      "Epoch 3/10\n",
      "49/49 [==============================] - 118s 2s/step - loss: 0.1320 - accuracy: 0.9556 - val_loss: 0.2484 - val_accuracy: 0.9079\n",
      "Epoch 4/10\n",
      "49/49 [==============================] - 117s 2s/step - loss: 0.0958 - accuracy: 0.9680 - val_loss: 0.2611 - val_accuracy: 0.9102\n",
      "Test Loss: 0.22820055484771729, Test Accuracy: 0.9169896841049194\n"
     ]
    }
   ],
   "source": [
    "# ---------------------- Modelo 1 - VERSION 3 ----------------------\n",
    "#                CYBERBULLYING VS. NOT CYBERBULLYING\n",
    "\n",
    "# 2 capas LSTM con 128 y 64 unidades respectivamente, DROP-OUT 0.2                   \n",
    "# 1 capa oculta con 32 unidades     (relu)                                          # SE AUMENTO EL NUMERO DE UNIDADES (de 16 a 32)\n",
    "# 1 capa oculta con 16 unidades     (relu)                                          # SE AGREGA UNA CAPA OCULTA CON 16 UNIDADES\n",
    "# 1 capa de salida con 1 unidad     (sigmoid)\n",
    "\n",
    "# Loss: binary_crossentropy\n",
    "# Optimizador: adam\n",
    "\n",
    "# Batch size: 256                                                                   \n",
    "# Epochs: 10                                                                        # SE AUMENTA EL NUMERO DE EPOCHS (de 5 a 10)\n",
    "# -----------------------------------------------------------------\n",
    "\n",
    "# Crear modelo\n",
    "model1_lstm = Sequential()\n",
    "model1_lstm.add(Embedding(input_dim=len(tokenizer1.word_index)+1, output_dim=128, input_length=max_length))\n",
    "model1_lstm.add(LSTM(units=128, dropout=0.2, recurrent_dropout=0.2, return_sequences=True))\n",
    "model1_lstm.add(LSTM(units=64, dropout=0.2, recurrent_dropout=0.2, return_sequences=False))\n",
    "model1_lstm.add(Dense(units=32, activation='relu'))\n",
    "model1_lstm.add(Dense(units=16, activation='relu'))\n",
    "model1_lstm.add(Dense(units=1, activation='sigmoid'))\n",
    "\n",
    "# Compilar modelo\n",
    "model1_lstm.compile(loss='binary_crossentropy', optimizer='adam', metrics=['accuracy'])\n",
    "\n",
    "# Early stopping\n",
    "early_stopping = EarlyStopping(monitor='val_loss', patience=2, restore_best_weights=True)\n",
    "\n",
    "# Entrenar modelo\n",
    "model1_lstm.fit(X_train_m1_padded, y_train_m1, batch_size=256, epochs=10, validation_data=(X_valid_m1_padded, y_test_m1), callbacks=[early_stopping])\n",
    "\n",
    "# Resultados de entrenamiento\n",
    "loss, accuracy = model1_lstm.evaluate(X_valid_m1_padded, y_test_m1, verbose=False)\n",
    "print(f\"Test Loss: {loss}, Test Accuracy: {accuracy}\")\n",
    "\n",
    "# 6 MINUTOS 26 SEGUNDOS\n",
    "# ACCURACY: 0.9169896841049194"
   ]
  },
  {
   "cell_type": "markdown",
   "metadata": {},
   "source": [
    "El segundo modelo se centra en detectar el tipo de ciberacoso presente, considerando la edad, género, religión y etnia como posibles categorías. Para ello, se utilizó la columna 'cyberbullying_type' del dataset.\n",
    "\n",
    "Asimismo, se realizó una serie de modelos LSTM con diferentes parámetros para determinar cuál era el mejor modelo. A continuación, se presentan todos los modelos que se realizaron."
   ]
  },
  {
   "cell_type": "code",
   "execution_count": 91,
   "metadata": {},
   "outputs": [
    {
     "name": "stdout",
     "output_type": "stream",
     "text": [
      "Test Loss: 0.29875919222831726, Test Accuracy: 0.9174885153770447\n"
     ]
    }
   ],
   "source": [
    "# ---------------------- Modelo 2 - VERSION 1 ----------------------\n",
    "#         Clasificación de texto en múltiples categorías\n",
    "\n",
    "# 2 capas LSTM con 80 y 40 unidades respectivamente, DROP-OUT 0.3\n",
    "# 1 capa oculta con 16 unidades, L2 0.01    (relu)\n",
    "# 1 capa de salida con 4 unidades           (softmax)\n",
    "\n",
    "# Loss: sparse_categorical_crossentropy\n",
    "# Optimizador: adam\n",
    "\n",
    "# Batch size: 256\n",
    "# Epochs: 5\n",
    "# -----------------------------------------------------------------\n",
    "\n",
    "# Crear modelo\n",
    "model2_lstm = Sequential()\n",
    "model2_lstm.add(Embedding(input_dim=len(tokenizer2.word_index)+1, output_dim=128, input_length=max_length))\n",
    "model2_lstm.add(LSTM(units=80, dropout=0.3, recurrent_dropout=0.3, return_sequences=True))\n",
    "model2_lstm.add(LSTM(units=40, dropout=0.3, recurrent_dropout=0.3))\n",
    "model2_lstm.add(Dense(units=16, activation='relu', kernel_regularizer=l2(0.01)))\n",
    "model2_lstm.add(Dense(units=4, activation='softmax'))\n",
    "\n",
    "# Compilar modelo\n",
    "model2_lstm.compile(loss='sparse_categorical_crossentropy', optimizer='adam', metrics=['accuracy'])\n",
    "\n",
    "# Early stopping\n",
    "early_stopping_v1 = EarlyStopping(monitor='val_loss', patience=2, restore_best_weights=True)\n",
    "\n",
    "# Entrenar modelo\n",
    "model2_lstm.fit(X_train_m2_padded, y_train_m2, batch_size=256, epochs=5, validation_data=(X_valid_m2_padded, y_test_m2), callbacks=[early_stopping_v1], verbose=0)\n",
    "\n",
    "# Resultados de entrenamiento\n",
    "loss, accuracy = model2_lstm.evaluate(X_valid_m2_padded, y_test_m2, verbose=False)\n",
    "print(f\"Test Loss: {loss}, Test Accuracy: {accuracy}\")\n",
    "\n",
    "# 14 MINUTOS 25 SEGUNDOS\n",
    "# ACCURACY: 0.9174885153770447"
   ]
  },
  {
   "cell_type": "code",
   "execution_count": 92,
   "metadata": {},
   "outputs": [
    {
     "name": "stdout",
     "output_type": "stream",
     "text": [
      "Test Loss: 0.21915322542190552, Test Accuracy: 0.9248849153518677\n"
     ]
    }
   ],
   "source": [
    "# ---------------------- Modelo 2 - VERSION 2 ----------------------\n",
    "#         Clasificación de texto en múltiples categorías\n",
    "\n",
    "# 2 capas LSTM con 50 y 25 unidades respectivamente, DROP-OUT 0.4               # SE REDUCE NEURONAS (de 80 a 50 y de 40 a 25), SE AUMENTA EL DROP-OUT (de 0.3 a 0.4)\n",
    "# 1 capa oculta con 16 unidades         (relu)                                  # SE ELIMINA L2 0.01\n",
    "# 1 capa de salida con 4 unidades       (softmax)                                 \n",
    "\n",
    "# Loss: sparse_categorical_crossentropy\n",
    "# Optimizador: adam\n",
    "\n",
    "# Batch size: 256\n",
    "# Epochs: 5\n",
    "# -----------------------------------------------------------------\n",
    "\n",
    "# Crear modelo\n",
    "model2_lstm = Sequential()\n",
    "model2_lstm.add(Embedding(input_dim=len(tokenizer2.word_index)+1, output_dim=128, input_length=max_length))\n",
    "model2_lstm.add(LSTM(units=50, dropout=0.4, recurrent_dropout=0.4, return_sequences=True))\n",
    "model2_lstm.add(LSTM(units=25, dropout=0.4, recurrent_dropout=0.4))\n",
    "model2_lstm.add(Dense(units=16, activation='relu'))\n",
    "model2_lstm.add(Dense(units=4, activation='softmax'))\n",
    "\n",
    "model2_lstm.compile(loss='sparse_categorical_crossentropy', optimizer='adam', metrics=['accuracy'])\n",
    "\n",
    "early_stopping_v2 = EarlyStopping(monitor='val_loss', patience=2, restore_best_weights=True)\n",
    "model2_lstm.fit(X_train_m2_padded, y_train_m2, batch_size=256, epochs=5, validation_data=(X_valid_m2_padded, y_test_m2), callbacks=[early_stopping_v2], verbose=0)\n",
    "\n",
    "# Resultados de entrenamiento\n",
    "loss, accuracy = model2_lstm.evaluate(X_valid_m2_padded, y_test_m2, verbose=False)\n",
    "print(f\"Test Loss: {loss}, Test Accuracy: {accuracy}\")\n",
    "\n",
    "# 8 MINUTOS 59 SEGUNDOS\n",
    "# ACCURACY: 0.9248849153518677\n"
   ]
  },
  {
   "cell_type": "code",
   "execution_count": 94,
   "metadata": {},
   "outputs": [
    {
     "name": "stdout",
     "output_type": "stream",
     "text": [
      "Epoch 1/5\n",
      "191/191 [==============================] - 145s 746ms/step - loss: 0.5161 - accuracy: 0.8075 - val_loss: 0.2180 - val_accuracy: 0.9223\n",
      "Epoch 2/5\n",
      "191/191 [==============================] - 143s 750ms/step - loss: 0.1712 - accuracy: 0.9398 - val_loss: 0.2139 - val_accuracy: 0.9275\n",
      "Epoch 3/5\n",
      "191/191 [==============================] - 145s 760ms/step - loss: 0.1154 - accuracy: 0.9612 - val_loss: 0.2243 - val_accuracy: 0.9236\n",
      "Epoch 4/5\n",
      "191/191 [==============================] - 147s 772ms/step - loss: 0.0887 - accuracy: 0.9709 - val_loss: 0.2462 - val_accuracy: 0.9188\n",
      "Test Loss: 0.21385058760643005, Test Accuracy: 0.9275147914886475\n"
     ]
    }
   ],
   "source": [
    "# ---------------------- Modelo 2 - VERSION 3 ----------------------\n",
    "#         Clasificación de texto en múltiples categorías\n",
    "\n",
    "# 2 capas LSTM con 64 y 32 unidades respectivamente, DROP-OUT 0.2               # SE AUMENTA LA CANTIDAD DE UNIDADES (de 50 a 64 y de 25 a 32), SE DISMINUYE EL DROP-OUT (de 0.4 a 0.2)\n",
    "# 1 capa oculta con 16 unidades         (relu)                                  \n",
    "# 1 capa de salida con 4 unidades       (softmax)                                 \n",
    "\n",
    "# Loss: sparse_categorical_crossentropy\n",
    "# Optimizador: adam\n",
    "\n",
    "# Batch size: 128                                                               # SE DISMINUYE EL BATCH SIZE (de 256 a 128)                                                               \n",
    "# Epochs: 5\n",
    "# -----------------------------------------------------------------\n",
    "\n",
    "# Crear modelo\n",
    "model2_lstm = Sequential()\n",
    "model2_lstm.add(Embedding(input_dim=len(tokenizer2.word_index)+1, output_dim=128, input_length=max_length))\n",
    "model2_lstm.add(LSTM(units=64, dropout=0.2, recurrent_dropout=0.2, return_sequences=True))\n",
    "model2_lstm.add(LSTM(units=32, dropout=0.2, recurrent_dropout=0.2, return_sequences=False))\n",
    "model2_lstm.add(Dense(units=16, activation='relu'))\n",
    "model2_lstm.add(Dense(units=4, activation='softmax'))\n",
    "\n",
    "# Compilar modelo\n",
    "model2_lstm.compile(loss='sparse_categorical_crossentropy', optimizer='adam', metrics=['accuracy'])\n",
    "\n",
    "# Early stopping\n",
    "early_stopping = EarlyStopping(monitor='val_loss', patience=2, restore_best_weights=True)\n",
    "\n",
    "# Entrenar modelo\n",
    "model2_lstm.fit(X_train_m2_padded, y_train_m2, batch_size=128, epochs=5, validation_data=(X_valid_m2_padded, y_test_m2), callbacks=[early_stopping])\n",
    "\n",
    "# Resultados de entrenamiento\n",
    "loss, accuracy = model2_lstm.evaluate(X_valid_m2_padded, y_test_m2, verbose=False)\n",
    "print(f\"Test Loss: {loss}, Test Accuracy: {accuracy}\")\n",
    "\n",
    "# 9 MINUTOS 47 SEGUNDOS\n",
    "# ACCURACY: 0.9275147914886475"
   ]
  },
  {
   "cell_type": "markdown",
   "metadata": {},
   "source": [
    "Finalmente, se procedió a **evaluar los modelos**. Para ello, se utilizó classification_report de la librería 'sklearn.metrics'."
   ]
  },
  {
   "cell_type": "code",
   "execution_count": 108,
   "metadata": {},
   "outputs": [
    {
     "name": "stdout",
     "output_type": "stream",
     "text": [
      "97/97 [==============================] - 8s 77ms/step\n",
      "              precision    recall  f1-score   support\n",
      "\n",
      "           0       0.89      0.95      0.92      1535\n",
      "           1       0.94      0.89      0.92      1561\n",
      "\n",
      "    accuracy                           0.92      3096\n",
      "   macro avg       0.92      0.92      0.92      3096\n",
      "weighted avg       0.92      0.92      0.92      3096\n",
      "\n"
     ]
    }
   ],
   "source": [
    "# ---------------------- Modelo 1 ----------------------\n",
    "\n",
    "# classification report\n",
    "y_pred_m1 = model1_lstm.predict(X_valid_m1_padded)\n",
    "y_pred_m1 = np.round(y_pred_m1).astype(int)\n",
    "\n",
    "print(classification_report(y_test_m1, y_pred_m1))"
   ]
  },
  {
   "cell_type": "code",
   "execution_count": 109,
   "metadata": {},
   "outputs": [
    {
     "data": {
      "image/png": "[encoded data removed]",
      "text/plain": [
       "<Figure size 500x500 with 2 Axes>"
      ]
     },
     "metadata": {},
     "output_type": "display_data"
    }
   ],
   "source": [
    "# MATRIZ DE CONFUSION del modelo 1\n",
    "cm_m1 = confusion_matrix(y_test_m1, y_pred_m1)\n",
    "plt.figure(figsize=(5, 5))\n",
    "sns.heatmap(cm_m1, annot=True, fmt=\"d\")\n",
    "plt.title('Matriz de confusión - Modelo 1')\n",
    "plt.xlabel('Predicción')\n",
    "plt.ylabel('Real')\n",
    "plt.show()"
   ]
  },
  {
   "cell_type": "code",
   "execution_count": 111,
   "metadata": {},
   "outputs": [
    {
     "name": "stdout",
     "output_type": "stream",
     "text": [
      "191/191 [==============================] - 7s 36ms/step\n",
      "              precision    recall  f1-score   support\n",
      "\n",
      "           0       0.99      0.96      0.97      1635\n",
      "           1       0.99      0.97      0.98      1349\n",
      "           2       0.90      0.88      0.89      1536\n",
      "           3       0.84      0.91      0.87      1564\n",
      "\n",
      "    accuracy                           0.93      6084\n",
      "   macro avg       0.93      0.93      0.93      6084\n",
      "weighted avg       0.93      0.93      0.93      6084\n",
      "\n"
     ]
    }
   ],
   "source": [
    "# ---------------------- Modelo 2 ----------------------\n",
    "\n",
    "# classification report\n",
    "y_pred_m2 = model2_lstm.predict(X_valid_m2_padded)\n",
    "y_pred_m2 = np.argmax(y_pred_m2, axis=1)\n",
    "\n",
    "print(classification_report(y_test_m2, y_pred_m2))"
   ]
  },
  {
   "cell_type": "code",
   "execution_count": 112,
   "metadata": {},
   "outputs": [
    {
     "data": {
      "image/png": "[encoded data removed]",
      "text/plain": [
       "<Figure size 500x500 with 2 Axes>"
      ]
     },
     "metadata": {},
     "output_type": "display_data"
    }
   ],
   "source": [
    "# MATRIZ DE CONFUSION del modelo 2\n",
    "cm_m2 = confusion_matrix(y_test_m2, y_pred_m2)\n",
    "plt.figure(figsize=(5, 5))\n",
    "sns.heatmap(cm_m2, annot=True, fmt=\"d\")\n",
    "plt.title('Matriz de confusión - Modelo 2')\n",
    "plt.xlabel('Predicción')\n",
    "plt.ylabel('Real')\n",
    "plt.show()"
   ]
  },
  {
   "cell_type": "markdown",
   "metadata": {},
   "source": [
    "Finalmente, se quiso evaluar en dónde era que se confundían los modelos específicamente. Para esto, se determinó qué tweets específicos se habían clasificado mal. Para ello, se utilizó la función 'predict_classes()' de la librería 'keras.models'."
   ]
  },
  {
   "cell_type": "code",
   "execution_count": 105,
   "metadata": {},
   "outputs": [
    {
     "data": {
      "text/html": [
       "<div>\n",
       "<style scoped>\n",
       "    .dataframe tbody tr th:only-of-type {\n",
       "        vertical-align: middle;\n",
       "    }\n",
       "\n",
       "    .dataframe tbody tr th {\n",
       "        vertical-align: top;\n",
       "    }\n",
       "\n",
       "    .dataframe thead th {\n",
       "        text-align: right;\n",
       "    }\n",
       "</style>\n",
       "<table border=\"1\" class=\"dataframe\">\n",
       "  <thead>\n",
       "    <tr style=\"text-align: right;\">\n",
       "      <th></th>\n",
       "      <th>tweet</th>\n",
       "      <th>clase real</th>\n",
       "      <th>clase predicha</th>\n",
       "    </tr>\n",
       "  </thead>\n",
       "  <tbody>\n",
       "    <tr>\n",
       "      <th>0</th>\n",
       "      <td>biolog inequ</td>\n",
       "      <td>cyberbullying</td>\n",
       "      <td>not_cyberbullying</td>\n",
       "    </tr>\n",
       "    <tr>\n",
       "      <th>1</th>\n",
       "      <td>whoa nice uh impress celin</td>\n",
       "      <td>cyberbullying</td>\n",
       "      <td>not_cyberbullying</td>\n",
       "    </tr>\n",
       "    <tr>\n",
       "      <th>2</th>\n",
       "      <td>true</td>\n",
       "      <td>cyberbullying</td>\n",
       "      <td>not_cyberbullying</td>\n",
       "    </tr>\n",
       "    <tr>\n",
       "      <th>3</th>\n",
       "      <td>omg wait tri hard crazi eye kat amp douch bag ...</td>\n",
       "      <td>cyberbullying</td>\n",
       "      <td>not_cyberbullying</td>\n",
       "    </tr>\n",
       "    <tr>\n",
       "      <th>4</th>\n",
       "      <td>continu product carbon dioxid</td>\n",
       "      <td>cyberbullying</td>\n",
       "      <td>not_cyberbullying</td>\n",
       "    </tr>\n",
       "    <tr>\n",
       "      <th>5</th>\n",
       "      <td>one bottom pic feminazi tumblr fag</td>\n",
       "      <td>cyberbullying</td>\n",
       "      <td>not_cyberbullying</td>\n",
       "    </tr>\n",
       "    <tr>\n",
       "      <th>6</th>\n",
       "      <td>exactli cult death center around idea go heave...</td>\n",
       "      <td>cyberbullying</td>\n",
       "      <td>not_cyberbullying</td>\n",
       "    </tr>\n",
       "    <tr>\n",
       "      <th>7</th>\n",
       "      <td>drasco u chef wanka one day miss ask self fuck...</td>\n",
       "      <td>cyberbullying</td>\n",
       "      <td>not_cyberbullying</td>\n",
       "    </tr>\n",
       "    <tr>\n",
       "      <th>8</th>\n",
       "      <td>true scotsman</td>\n",
       "      <td>cyberbullying</td>\n",
       "      <td>not_cyberbullying</td>\n",
       "    </tr>\n",
       "    <tr>\n",
       "      <th>9</th>\n",
       "      <td>ahh christian conspiraci book involv real chri...</td>\n",
       "      <td>not_cyberbullying</td>\n",
       "      <td>cyberbullying</td>\n",
       "    </tr>\n",
       "    <tr>\n",
       "      <th>10</th>\n",
       "      <td>bellevil hate harbaugh caus process player school</td>\n",
       "      <td>cyberbullying</td>\n",
       "      <td>not_cyberbullying</td>\n",
       "    </tr>\n",
       "    <tr>\n",
       "      <th>11</th>\n",
       "      <td>protip think stalk rape joke funni fit enforc ...</td>\n",
       "      <td>not_cyberbullying</td>\n",
       "      <td>cyberbullying</td>\n",
       "    </tr>\n",
       "    <tr>\n",
       "      <th>12</th>\n",
       "      <td>man stop babbl squirm admit wrong</td>\n",
       "      <td>cyberbullying</td>\n",
       "      <td>not_cyberbullying</td>\n",
       "    </tr>\n",
       "    <tr>\n",
       "      <th>13</th>\n",
       "      <td>oh shock face kat realli</td>\n",
       "      <td>cyberbullying</td>\n",
       "      <td>not_cyberbullying</td>\n",
       "    </tr>\n",
       "    <tr>\n",
       "      <th>14</th>\n",
       "      <td>could care less much love fraud right think wa...</td>\n",
       "      <td>cyberbullying</td>\n",
       "      <td>not_cyberbullying</td>\n",
       "    </tr>\n",
       "    <tr>\n",
       "      <th>15</th>\n",
       "      <td>good job call loser btw hypocrisi gold hope so...</td>\n",
       "      <td>cyberbullying</td>\n",
       "      <td>not_cyberbullying</td>\n",
       "    </tr>\n",
       "    <tr>\n",
       "      <th>16</th>\n",
       "      <td>way insult direct man unflatt hat worn predomi...</td>\n",
       "      <td>cyberbullying</td>\n",
       "      <td>not_cyberbullying</td>\n",
       "    </tr>\n",
       "    <tr>\n",
       "      <th>17</th>\n",
       "      <td>hit way wear would ok</td>\n",
       "      <td>cyberbullying</td>\n",
       "      <td>not_cyberbullying</td>\n",
       "    </tr>\n",
       "    <tr>\n",
       "      <th>18</th>\n",
       "      <td>first hand account now founder sister bs</td>\n",
       "      <td>cyberbullying</td>\n",
       "      <td>not_cyberbullying</td>\n",
       "    </tr>\n",
       "    <tr>\n",
       "      <th>19</th>\n",
       "      <td>sassi like trashi</td>\n",
       "      <td>cyberbullying</td>\n",
       "      <td>not_cyberbullying</td>\n",
       "    </tr>\n",
       "  </tbody>\n",
       "</table>\n",
       "</div>"
      ],
      "text/plain": [
       "                                                tweet         clase real  \\\n",
       "0                                        biolog inequ      cyberbullying   \n",
       "1                          whoa nice uh impress celin      cyberbullying   \n",
       "2                                                true      cyberbullying   \n",
       "3   omg wait tri hard crazi eye kat amp douch bag ...      cyberbullying   \n",
       "4                       continu product carbon dioxid      cyberbullying   \n",
       "5                  one bottom pic feminazi tumblr fag      cyberbullying   \n",
       "6   exactli cult death center around idea go heave...      cyberbullying   \n",
       "7   drasco u chef wanka one day miss ask self fuck...      cyberbullying   \n",
       "8                                       true scotsman      cyberbullying   \n",
       "9   ahh christian conspiraci book involv real chri...  not_cyberbullying   \n",
       "10  bellevil hate harbaugh caus process player school      cyberbullying   \n",
       "11  protip think stalk rape joke funni fit enforc ...  not_cyberbullying   \n",
       "12                  man stop babbl squirm admit wrong      cyberbullying   \n",
       "13                           oh shock face kat realli      cyberbullying   \n",
       "14  could care less much love fraud right think wa...      cyberbullying   \n",
       "15  good job call loser btw hypocrisi gold hope so...      cyberbullying   \n",
       "16  way insult direct man unflatt hat worn predomi...      cyberbullying   \n",
       "17                              hit way wear would ok      cyberbullying   \n",
       "18           first hand account now founder sister bs      cyberbullying   \n",
       "19                                  sassi like trashi      cyberbullying   \n",
       "\n",
       "       clase predicha  \n",
       "0   not_cyberbullying  \n",
       "1   not_cyberbullying  \n",
       "2   not_cyberbullying  \n",
       "3   not_cyberbullying  \n",
       "4   not_cyberbullying  \n",
       "5   not_cyberbullying  \n",
       "6   not_cyberbullying  \n",
       "7   not_cyberbullying  \n",
       "8   not_cyberbullying  \n",
       "9       cyberbullying  \n",
       "10  not_cyberbullying  \n",
       "11      cyberbullying  \n",
       "12  not_cyberbullying  \n",
       "13  not_cyberbullying  \n",
       "14  not_cyberbullying  \n",
       "15  not_cyberbullying  \n",
       "16  not_cyberbullying  \n",
       "17  not_cyberbullying  \n",
       "18  not_cyberbullying  \n",
       "19  not_cyberbullying  "
      ]
     },
     "execution_count": 105,
     "metadata": {},
     "output_type": "execute_result"
    }
   ],
   "source": [
    "# Generar un dataset con los tweets que el primer modelo clasificó mal. TWEET, CLASE REAL, CLASE PREDICHA\n",
    "\n",
    "y_test_m1_array = np.array(y_test_m1)\n",
    "modelo1_errores = []\n",
    "for i in range(len(y_pred_m1)):\n",
    "    if y_test_m1_array[i] != y_pred_m1[i][0]:\n",
    "\n",
    "        real_class = 'cyberbullying' if y_test_m1_array[i] == 1 else 'not_cyberbullying'\n",
    "        predicted_class = 'cyberbullying' if y_pred_m1[i][0] == 1 else 'not_cyberbullying'\n",
    "\n",
    "        modelo1_errores.append([X_test_m1.iloc[i], real_class, predicted_class])\n",
    "\n",
    "modelo1_errores = pd.DataFrame(modelo1_errores, columns = ['tweet', 'clase real', 'clase predicha'])\n",
    "modelo1_errores.to_csv('modelo1_errores.csv', index = False)\n",
    "\n",
    "modelo1_errores.head(20)"
   ]
  },
  {
   "cell_type": "code",
   "execution_count": 106,
   "metadata": {},
   "outputs": [
    {
     "data": {
      "text/html": [
       "<div>\n",
       "<style scoped>\n",
       "    .dataframe tbody tr th:only-of-type {\n",
       "        vertical-align: middle;\n",
       "    }\n",
       "\n",
       "    .dataframe tbody tr th {\n",
       "        vertical-align: top;\n",
       "    }\n",
       "\n",
       "    .dataframe thead th {\n",
       "        text-align: right;\n",
       "    }\n",
       "</style>\n",
       "<table border=\"1\" class=\"dataframe\">\n",
       "  <thead>\n",
       "    <tr style=\"text-align: right;\">\n",
       "      <th></th>\n",
       "      <th>tweet</th>\n",
       "      <th>clase real</th>\n",
       "      <th>clase predicha</th>\n",
       "    </tr>\n",
       "  </thead>\n",
       "  <tbody>\n",
       "    <tr>\n",
       "      <th>0</th>\n",
       "      <td>chemali special kind twit master whine rd worl...</td>\n",
       "      <td>gender</td>\n",
       "      <td>religion</td>\n",
       "    </tr>\n",
       "    <tr>\n",
       "      <th>1</th>\n",
       "      <td>gotta bet shiv school bulli</td>\n",
       "      <td>age</td>\n",
       "      <td>religion</td>\n",
       "    </tr>\n",
       "    <tr>\n",
       "      <th>2</th>\n",
       "      <td>dear mother natur wish would stop fuck shit cu...</td>\n",
       "      <td>religion</td>\n",
       "      <td>gender</td>\n",
       "    </tr>\n",
       "    <tr>\n",
       "      <th>3</th>\n",
       "      <td>fuck</td>\n",
       "      <td>gender</td>\n",
       "      <td>religion</td>\n",
       "    </tr>\n",
       "    <tr>\n",
       "      <th>4</th>\n",
       "      <td>get bulli royal high say unknow boy said shutu...</td>\n",
       "      <td>age</td>\n",
       "      <td>gender</td>\n",
       "    </tr>\n",
       "    <tr>\n",
       "      <th>5</th>\n",
       "      <td>femal owe mom futur daughter alway conduct sel...</td>\n",
       "      <td>religion</td>\n",
       "      <td>gender</td>\n",
       "    </tr>\n",
       "    <tr>\n",
       "      <th>6</th>\n",
       "      <td>fuck sake anni disgust blush enough enough</td>\n",
       "      <td>religion</td>\n",
       "      <td>gender</td>\n",
       "    </tr>\n",
       "    <tr>\n",
       "      <th>7</th>\n",
       "      <td>school univers landlord ask paid cash dollar b...</td>\n",
       "      <td>age</td>\n",
       "      <td>religion</td>\n",
       "    </tr>\n",
       "    <tr>\n",
       "      <th>8</th>\n",
       "      <td>meh myer regain form forget ever exist armia l...</td>\n",
       "      <td>gender</td>\n",
       "      <td>religion</td>\n",
       "    </tr>\n",
       "    <tr>\n",
       "      <th>9</th>\n",
       "      <td>school bulli go deposit cowardic po</td>\n",
       "      <td>age</td>\n",
       "      <td>religion</td>\n",
       "    </tr>\n",
       "    <tr>\n",
       "      <th>10</th>\n",
       "      <td>bulli didnt go hard enough bezo zuckerberg coo...</td>\n",
       "      <td>age</td>\n",
       "      <td>religion</td>\n",
       "    </tr>\n",
       "    <tr>\n",
       "      <th>11</th>\n",
       "      <td>think gay peopl get bulli like jb like get dam...</td>\n",
       "      <td>gender</td>\n",
       "      <td>religion</td>\n",
       "    </tr>\n",
       "    <tr>\n",
       "      <th>12</th>\n",
       "      <td>watch men slope style way better watch women</td>\n",
       "      <td>gender</td>\n",
       "      <td>religion</td>\n",
       "    </tr>\n",
       "    <tr>\n",
       "      <th>13</th>\n",
       "      <td>aim</td>\n",
       "      <td>gender</td>\n",
       "      <td>religion</td>\n",
       "    </tr>\n",
       "    <tr>\n",
       "      <th>14</th>\n",
       "      <td>might could</td>\n",
       "      <td>gender</td>\n",
       "      <td>religion</td>\n",
       "    </tr>\n",
       "    <tr>\n",
       "      <th>15</th>\n",
       "      <td>thirsti vagina warrior name new girl band old ...</td>\n",
       "      <td>religion</td>\n",
       "      <td>age</td>\n",
       "    </tr>\n",
       "    <tr>\n",
       "      <th>16</th>\n",
       "      <td>project bulli project bulli nation news inform...</td>\n",
       "      <td>religion</td>\n",
       "      <td>age</td>\n",
       "    </tr>\n",
       "    <tr>\n",
       "      <th>17</th>\n",
       "      <td>oh mad call gender slur see women unreason yep...</td>\n",
       "      <td>religion</td>\n",
       "      <td>gender</td>\n",
       "    </tr>\n",
       "    <tr>\n",
       "      <th>18</th>\n",
       "      <td>mother fought vote begin last centuri incred w...</td>\n",
       "      <td>religion</td>\n",
       "      <td>gender</td>\n",
       "    </tr>\n",
       "    <tr>\n",
       "      <th>19</th>\n",
       "      <td>said caus u black color gay u wear fake hair b...</td>\n",
       "      <td>ethnicity</td>\n",
       "      <td>gender</td>\n",
       "    </tr>\n",
       "  </tbody>\n",
       "</table>\n",
       "</div>"
      ],
      "text/plain": [
       "                                                tweet clase real  \\\n",
       "0   chemali special kind twit master whine rd worl...     gender   \n",
       "1                         gotta bet shiv school bulli        age   \n",
       "2   dear mother natur wish would stop fuck shit cu...   religion   \n",
       "3                                                fuck     gender   \n",
       "4   get bulli royal high say unknow boy said shutu...        age   \n",
       "5   femal owe mom futur daughter alway conduct sel...   religion   \n",
       "6          fuck sake anni disgust blush enough enough   religion   \n",
       "7   school univers landlord ask paid cash dollar b...        age   \n",
       "8   meh myer regain form forget ever exist armia l...     gender   \n",
       "9                 school bulli go deposit cowardic po        age   \n",
       "10  bulli didnt go hard enough bezo zuckerberg coo...        age   \n",
       "11  think gay peopl get bulli like jb like get dam...     gender   \n",
       "12       watch men slope style way better watch women     gender   \n",
       "13                                                aim     gender   \n",
       "14                                        might could     gender   \n",
       "15  thirsti vagina warrior name new girl band old ...   religion   \n",
       "16  project bulli project bulli nation news inform...   religion   \n",
       "17  oh mad call gender slur see women unreason yep...   religion   \n",
       "18  mother fought vote begin last centuri incred w...   religion   \n",
       "19  said caus u black color gay u wear fake hair b...  ethnicity   \n",
       "\n",
       "   clase predicha  \n",
       "0        religion  \n",
       "1        religion  \n",
       "2          gender  \n",
       "3        religion  \n",
       "4          gender  \n",
       "5          gender  \n",
       "6          gender  \n",
       "7        religion  \n",
       "8        religion  \n",
       "9        religion  \n",
       "10       religion  \n",
       "11       religion  \n",
       "12       religion  \n",
       "13       religion  \n",
       "14       religion  \n",
       "15            age  \n",
       "16            age  \n",
       "17         gender  \n",
       "18         gender  \n",
       "19         gender  "
      ]
     },
     "execution_count": 106,
     "metadata": {},
     "output_type": "execute_result"
    }
   ],
   "source": [
    "# Generar un dataset con los tweets que el segundo modelo clasificó mal. TWEET, CLASE REAL, CLASE PREDICHA\n",
    "\n",
    "y_test_m2_array = np.array(y_test_m2)\n",
    "modelo2_errores = []\n",
    "\n",
    "for i in range(len(y_pred_m2)):\n",
    "    if y_test_m2_array[i] != y_pred_m2[i]:\n",
    "        \n",
    "        real_class = \"\"\n",
    "        if y_test_m2_array[i] == 0:\n",
    "            real_class = 'age'\n",
    "        elif y_test_m2_array[i] == 1:\n",
    "            real_class = \"ethnicity\"\n",
    "        elif y_test_m2_array[i] == 2:\n",
    "            real_class = \"gender\"\n",
    "        elif y_test_m2_array[i] == 3:\n",
    "            real_class = \"religion\"\n",
    "\n",
    "        predicted_class = \"\"\n",
    "        if y_pred_m2[i] == 0:\n",
    "            predicted_class = 'age'\n",
    "        elif y_pred_m2[i] == 1:\n",
    "            predicted_class = \"ethnicity\"\n",
    "        elif y_pred_m2[i] == 2:\n",
    "            predicted_class = \"gender\"\n",
    "        elif y_pred_m2[i] == 3:\n",
    "            predicted_class = \"religion\"\n",
    "\n",
    "        modelo2_errores.append([X_test_m2.iloc[i], real_class, predicted_class])\n",
    "\n",
    "modelo2_errores = pd.DataFrame(modelo2_errores, columns = ['tweet', 'clase real', 'clase predicha'])\n",
    "modelo2_errores.to_csv('modelo2_errores.csv', index = False)\n",
    "\n",
    "modelo2_errores.head(20)"
   ]
  }
 ],
 "metadata": {
  "kernelspec": {
   "display_name": "Python 3",
   "language": "python",
   "name": "python3"
  },
  "language_info": {
   "codemirror_mode": {
    "name": "ipython",
    "version": 3
   },
   "file_extension": ".py",
   "mimetype": "text/x-python",
   "name": "python",
   "nbconvert_exporter": "python",
   "pygments_lexer": "ipython3",
   "version": "3.11.0"
  }
 },
 "nbformat": 4,
 "nbformat_minor": 2
}
