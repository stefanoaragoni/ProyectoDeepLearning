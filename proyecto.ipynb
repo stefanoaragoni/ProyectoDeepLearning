{
 "cells": [
  {
   "cell_type": "markdown",
   "metadata": {},
   "source": [
    "### **Deep Learning - Proyecto Final**\n",
    "\n",
    "Stefano Aragoni, Carol Arévalo\n",
    "\n",
    "----------"
   ]
  },
  {
   "cell_type": "markdown",
   "metadata": {},
   "source": [
    "##### **Introducción**\n",
    "El cyberbullying es una forma de acoso que se lleva a cabo a través de medios electrónicos, como las redes sociales. Este se caracteriza por ser –en su mayoría de instancias– anónimo y por la facilidad con la que los agresores pueden unirse y atacar a las víctimas. Es un problema grave que puede tener consecuencias emocionales y psicológicas significativas para quienes lo sufren. En realidad, según varios estudios, los adolescentes víctimas de ciberacoso son 4 veces más probables a tener pensamientos suicidas a comparación de aquellos que no reciben este tipo de acoso\n",
    "\n",
    "En el presente trabajo se busca afrontar la problemática de ciberacoso en redes sociales a través de deep learning. Esto con el propósito de poder ayudar a la salud mental de aquellas personas que son víctimas de este tipo de violencia.\n",
    "\n",
    "--------"
   ]
  },
  {
   "cell_type": "markdown",
   "metadata": {},
   "source": [
    "##### **Análisis Exploratorio**\n",
    "\n",
    "Para este proyecto, se utilizó un dataset presentado en la ‘Conferencia Internacional de Big Data’ en el 2020. Esta almacena tweets junto con una clasificación de los mismos para indicar si estos representan ciberacoso o no. A partir de esta base de datos, se realizó un análisis exploratorio. "
   ]
  },
  {
   "cell_type": "markdown",
   "metadata": {},
   "source": [
    "Como primer paso, se **importaron las librerías necesarias** para el análisis exploratorio y el preprocesamiento de los datos.\n",
    "\n"
   ]
  },
  {
   "cell_type": "code",
   "execution_count": 1,
   "metadata": {},
   "outputs": [],
   "source": [
    "# Importaciones de bibliotecas estándar\n",
    "import numpy as np\n",
    "import pandas as pd\n",
    "import re\n",
    "from collections import Counter\n",
    "from copy import deepcopy\n",
    "from tqdm import tqdm\n",
    "\n",
    "# Importaciones de visualización\n",
    "import seaborn as sns\n",
    "import matplotlib.pyplot as plt\n",
    "from pandas.plotting import scatter_matrix\n",
    "from prettytable import PrettyTable\n",
    "\n",
    "# Importaciones de procesamiento de texto y NLP\n",
    "import nltk\n",
    "nltk.download('stopwords')\n",
    "nltk.download('punkt')\n",
    "from nltk.corpus import stopwords\n",
    "from nltk.stem import PorterStemmer\n",
    "\n",
    "# Importaciones de aprendizaje automático y ciencia de datos\n",
    "from sklearn import datasets\n",
    "from sklearn.feature_extraction.text import CountVectorizer\n",
    "from sklearn.preprocessing import LabelEncoder, OneHotEncoder\n",
    "from keras.preprocessing.text import Tokenizer\n",
    "from keras.models import Sequential\n",
    "from keras.layers import Embedding, LSTM, Dense, BatchNormalization, Dropout\n",
    "from keras.callbacks import EarlyStopping\n",
    "from keras.regularizers import l2\n",
    "from keras.optimizers import SGD\n",
    "\n",
    "from keras.preprocessing.sequence import pad_sequences\n",
    "from sklearn.model_selection import (\n",
    "    train_test_split,\n",
    ")\n",
    "from sklearn.metrics import (\n",
    "    confusion_matrix,\n",
    "    accuracy_score,\n",
    "    classification_report\n",
    ")\n",
    "\n",
    "# Otras importaciones\n",
    "from tqdm import tqdm\n",
    "import pickle"
   ]
  },
  {
   "cell_type": "markdown",
   "metadata": {},
   "source": [
    "Posteriormente, se **cargó el dataset** y se visualizaron las primeras 5 filas para tener una idea de la estructura de los datos.\n",
    "\n",
    "Como se puede observar, el dataset cuenta con 2 columnas: 'tweet_text' y 'cyberbullying_type'. La primera almacena el texto del tweet y la segunda indica si este representa ciberacoso o no."
   ]
  },
  {
   "cell_type": "code",
   "execution_count": null,
   "metadata": {},
   "outputs": [
    {
     "data": {
      "text/html": [
       "<div>\n",
       "<style scoped>\n",
       "    .dataframe tbody tr th:only-of-type {\n",
       "        vertical-align: middle;\n",
       "    }\n",
       "\n",
       "    .dataframe tbody tr th {\n",
       "        vertical-align: top;\n",
       "    }\n",
       "\n",
       "    .dataframe thead th {\n",
       "        text-align: right;\n",
       "    }\n",
       "</style>\n",
       "<table border=\"1\" class=\"dataframe\">\n",
       "  <thead>\n",
       "    <tr style=\"text-align: right;\">\n",
       "      <th></th>\n",
       "      <th>tweet_text</th>\n",
       "      <th>cyberbullying_type</th>\n",
       "    </tr>\n",
       "  </thead>\n",
       "  <tbody>\n",
       "    <tr>\n",
       "      <th>0</th>\n",
       "      <td>In other words #katandandre, your food was cra...</td>\n",
       "      <td>not_cyberbullying</td>\n",
       "    </tr>\n",
       "    <tr>\n",
       "      <th>1</th>\n",
       "      <td>Why is #aussietv so white? #MKR #theblock #ImA...</td>\n",
       "      <td>not_cyberbullying</td>\n",
       "    </tr>\n",
       "    <tr>\n",
       "      <th>2</th>\n",
       "      <td>@XochitlSuckkks a classy whore? Or more red ve...</td>\n",
       "      <td>not_cyberbullying</td>\n",
       "    </tr>\n",
       "    <tr>\n",
       "      <th>3</th>\n",
       "      <td>@Jason_Gio meh. :P  thanks for the heads up, b...</td>\n",
       "      <td>not_cyberbullying</td>\n",
       "    </tr>\n",
       "    <tr>\n",
       "      <th>4</th>\n",
       "      <td>@RudhoeEnglish This is an ISIS account pretend...</td>\n",
       "      <td>not_cyberbullying</td>\n",
       "    </tr>\n",
       "  </tbody>\n",
       "</table>\n",
       "</div>"
      ],
      "text/plain": [
       "                                          tweet_text cyberbullying_type\n",
       "0  In other words #katandandre, your food was cra...  not_cyberbullying\n",
       "1  Why is #aussietv so white? #MKR #theblock #ImA...  not_cyberbullying\n",
       "2  @XochitlSuckkks a classy whore? Or more red ve...  not_cyberbullying\n",
       "3  @Jason_Gio meh. :P  thanks for the heads up, b...  not_cyberbullying\n",
       "4  @RudhoeEnglish This is an ISIS account pretend...  not_cyberbullying"
      ]
     },
     "execution_count": 43,
     "metadata": {},
     "output_type": "execute_result"
    }
   ],
   "source": [
    "#cargar dataset\n",
    "data = pd.read_csv('cyberbullying_tweets_clean.csv')\n",
    "\n",
    "# Imprimir las primeras 5 filas\n",
    "data.head()"
   ]
  },
  {
   "cell_type": "markdown",
   "metadata": {},
   "source": [
    "Asimismo, se quiso determinar la presencia de **valores nulos o vacíos en el dataset**. Para ello, se utilizó la función 'isnull()' y se sumaron los valores nulos por columna. Como se puede observar, no existen valores nulos en el dataset."
   ]
  },
  {
   "cell_type": "code",
   "execution_count": null,
   "metadata": {},
   "outputs": [
    {
     "data": {
      "text/plain": [
       "tweet_text            0\n",
       "cyberbullying_type    0\n",
       "dtype: int64"
      ]
     },
     "execution_count": 44,
     "metadata": {},
     "output_type": "execute_result"
    }
   ],
   "source": [
    "# Determinar valores nulos o faltantes\n",
    "data.isnull().sum()"
   ]
  },
  {
   "cell_type": "markdown",
   "metadata": {},
   "source": [
    "Asimismo, cabe destacar que se quiso determinar si habían **datos dupllicados**. Para ello, se utilizó la función 'duplicated()' y se sumaron los valores duplicados por columna. En este caso, s´i se encontraron datos duplicados. Por ello, se procedió a eliminarlos."
   ]
  },
  {
   "cell_type": "code",
   "execution_count": null,
   "metadata": {},
   "outputs": [
    {
     "name": "stdout",
     "output_type": "stream",
     "text": [
      "Número de datos duplicados:  59\n",
      "Número de datos duplicados (post-limpieza):  0\n"
     ]
    }
   ],
   "source": [
    "data['tweet_text'] = data['tweet_text'].str.lower()\n",
    "\n",
    "#verificar datos duplicados\n",
    "print(\"Número de datos duplicados: \", data.duplicated().sum())\n",
    "\n",
    "#eliminar datos duplicados\n",
    "data.drop_duplicates(inplace=True)\n",
    "\n",
    "#verificar datos duplicados\n",
    "print(\"Número de datos duplicados (post-limpieza): \", data.duplicated().sum())"
   ]
  },
  {
   "cell_type": "markdown",
   "metadata": {},
   "source": [
    "Con eso listo, se procedió a **visualizar la cantidad de tweets que representan ciberacoso y los que no**. \n",
    "\n",
    "\n",
    "Como se puede observar a continuación, pareciera que el dataset está balanceado. Esto debido a que cada clase cuenta con una cantidad similar de tweets. \n",
    "\n",
    "Sin embargo, religion, age, gender, ethnicity combinados representan el 80% de los tweets. Por tal motivo, al verlo como dos clases (cyberbullying y no cyberbullying) se puede observar que el dataset está desbalanceado. Esto debido a que la clase cyberbullying representa el 20% de los tweets, mientras que la clase no cyberbullying representa el 80% de los tweets."
   ]
  },
  {
   "cell_type": "code",
   "execution_count": null,
   "metadata": {},
   "outputs": [
    {
     "name": "stdout",
     "output_type": "stream",
     "text": [
      "cyberbullying_type\n",
      "religion             7994\n",
      "age                  7979\n",
      "ethnicity            7953\n",
      "gender               7947\n",
      "not_cyberbullying    7937\n",
      "Name: count, dtype: int64\n"
     ]
    },
    {
     "data": {
      "image/png": "[encoded data removed]",
      "text/plain": [
       "<Figure size 640x480 with 1 Axes>"
      ]
     },
     "metadata": {},
     "output_type": "display_data"
    }
   ],
   "source": [
    "# Contar la frecuencia de cada valor único en la columna \"cyberbullying_type\"\n",
    "frecuencias = data['cyberbullying_type'].value_counts()\n",
    "\n",
    "# Mostrar los resultados\n",
    "print(frecuencias)\n",
    "\n",
    "# Visualizar la distribución de clases\n",
    "class_counts = data['cyberbullying_type'].value_counts()\n",
    "class_counts.plot(kind='bar')\n",
    "plt.title('Distribución de clases')\n",
    "plt.xlabel('Clases')\n",
    "plt.ylabel('Frecuencia')\n",
    "plt.show()"
   ]
  },
  {
   "cell_type": "markdown",
   "metadata": {},
   "source": [
    "----------\n",
    "\n",
    "##### **Preprocesamiento de Datos**\n",
    "\n",
    "Para obtener datos más limpios se eliminaron hipervínculos, etiquetas y menciones de los comentarios. Asimismo, se eliminaron palabras vacías del idioma inglés que no aportan ninguna información relevante al modelo. En base a esto, se analizó cuáles eran las palabras más comunes en la base de datos. "
   ]
  },
  {
   "cell_type": "code",
   "execution_count": null,
   "metadata": {},
   "outputs": [],
   "source": [
    "# Remover URLs, menciones y hashtags\n",
    "new_tweets = []\n",
    "new_types = []\n",
    "\n",
    "def remove_urls_mentions_hashtags(text, type):\n",
    "\n",
    "    text = text.lower()\n",
    "    text = re.sub(r'http\\S+', '', text) # URLs\n",
    "    text = re.sub(r'@\\S+', '', text) # Menciones\n",
    "    text = re.sub(r'#\\S+', ' ', text) # Hashtags\n",
    "    text = re.sub('<.*?>', '', text) # HTML tags\n",
    "    text = re.sub('[^a-zA-Z]', ' ', text) # Puntuación y números\n",
    "\n",
    "    stemmer = PorterStemmer()\n",
    "    text = text.split()\n",
    "    text = [stemmer.stem(word) for word in text if not word in set(stopwords.words('english'))]\n",
    "    text = ' '.join(text)\n",
    "\n",
    "    return text, type\n",
    "\n",
    "for i in tqdm(range(len(data))):\n",
    "    try:\n",
    "        text, type = remove_urls_mentions_hashtags(data['tweet_text'][i], data['cyberbullying_type'][i])\n",
    "        new_tweets.append(text)\n",
    "        new_types.append(type)\n",
    "    except:\n",
    "        pass\n",
    "\n",
    "data = pd.DataFrame({\n",
    "    'tweet_text': new_tweets,\n",
    "    'cyberbullying_type': new_types\n",
    "})"
   ]
  },
  {
   "cell_type": "markdown",
   "metadata": {},
   "source": [
    "Después de haber realizado la limpieza de los tweets, se procedió a analizar **cuáles eran las palabras más comunes** en la base de datos. Para ello, se utilizó la función 'most_common()' de la librería 'collections'.\n",
    "\n",
    "Como se puede observar, insultos y palabras ofensivas son las palabras más comunes en el dataset."
   ]
  },
  {
   "cell_type": "code",
   "execution_count": null,
   "metadata": {},
   "outputs": [
    {
     "name": "stdout",
     "output_type": "stream",
     "text": [
      "+---------+------------+\n",
      "| Palabra | Frecuencia |\n",
      "+---------+------------+\n",
      "|   the   |   28281    |\n",
      "|    a    |   22192    |\n",
      "|    to   |   20732    |\n",
      "|   and   |   20179    |\n",
      "|    i    |   17288    |\n",
      "|   you   |   15918    |\n",
      "|    of   |   13925    |\n",
      "|    in   |   13815    |\n",
      "|    is   |   12322    |\n",
      "|   that  |    9859    |\n",
      "+---------+------------+\n"
     ]
    }
   ],
   "source": [
    "# Frecuencia de cada palabra\n",
    "tweets = ' '.join(data['tweet_text'].values)\n",
    "words = tweets.split()\n",
    "\n",
    "frecuencia = Counter(words).most_common(10)\n",
    "\n",
    "table = PrettyTable()\n",
    "table.field_names = ['Palabra', 'Frecuencia']\n",
    "for i in range(len(frecuencia)):\n",
    "    table.add_row([frecuencia[i][0], frecuencia[i][1]])\n",
    "\n",
    "print(table)\n"
   ]
  },
  {
   "cell_type": "markdown",
   "metadata": {},
   "source": [
    "Asimismo, se procedió a **visualizar las palabras más comunes en los tweets que representan ciberacoso**. Nuevamente, insultos y palabras ofensivas son las palabras más comunes en el dataset."
   ]
  },
  {
   "cell_type": "code",
   "execution_count": null,
   "metadata": {},
   "outputs": [
    {
     "data": {
      "image/png": "[encoded data removed]",
      "text/plain": [
       "<Figure size 640x480 with 1 Axes>"
      ]
     },
     "metadata": {},
     "output_type": "display_data"
    }
   ],
   "source": [
    "# Visualizar las palabras más frecuentes\n",
    "plt.bar(*zip(*frecuencia))\n",
    "plt.title('Top palabras más frecuentes')\n",
    "plt.xlabel('Palabras')\n",
    "plt.ylabel('Frecuencia')\n",
    "plt.show()"
   ]
  },
  {
   "cell_type": "markdown",
   "metadata": {},
   "source": [
    "Finalmente, se prosiguió a **encodear las etiquetas de los tweets**. Para ello, se utilizó la función 'LabelEncoder()' de la librería 'sklearn'."
   ]
  },
  {
   "cell_type": "code",
   "execution_count": null,
   "metadata": {},
   "outputs": [
    {
     "name": "stdout",
     "output_type": "stream",
     "text": [
      "Clases: ['age' 'ethnicity' 'gender' 'not_cyberbullying' 'religion']\n",
      "Códigos: [0 1 2 3 4]\n"
     ]
    }
   ],
   "source": [
    "# Encodificar las clases\n",
    "label_encoder = LabelEncoder()\n",
    "data['cyberbullying_type'] = label_encoder.fit_transform(data['cyberbullying_type'])\n",
    "\n",
    "# Imprimir las clases y sus respectivos códigos\n",
    "print('Clases:', label_encoder.classes_)\n",
    "print('Códigos:', label_encoder.transform(label_encoder.classes_))\n"
   ]
  },
  {
   "cell_type": "code",
   "execution_count": null,
   "metadata": {},
   "outputs": [
    {
     "data": {
      "text/html": [
       "<div>\n",
       "<style scoped>\n",
       "    .dataframe tbody tr th:only-of-type {\n",
       "        vertical-align: middle;\n",
       "    }\n",
       "\n",
       "    .dataframe tbody tr th {\n",
       "        vertical-align: top;\n",
       "    }\n",
       "\n",
       "    .dataframe thead th {\n",
       "        text-align: right;\n",
       "    }\n",
       "</style>\n",
       "<table border=\"1\" class=\"dataframe\">\n",
       "  <thead>\n",
       "    <tr style=\"text-align: right;\">\n",
       "      <th></th>\n",
       "      <th>tweet_text</th>\n",
       "      <th>cyberbullying_type</th>\n",
       "    </tr>\n",
       "  </thead>\n",
       "  <tbody>\n",
       "    <tr>\n",
       "      <th>0</th>\n",
       "      <td>in other words #katandandre, your food was cra...</td>\n",
       "      <td>3</td>\n",
       "    </tr>\n",
       "    <tr>\n",
       "      <th>1</th>\n",
       "      <td>why is #aussietv so white? #mkr #theblock #ima...</td>\n",
       "      <td>3</td>\n",
       "    </tr>\n",
       "    <tr>\n",
       "      <th>2</th>\n",
       "      <td>@xochitlsuckkks a classy whore? or more red ve...</td>\n",
       "      <td>3</td>\n",
       "    </tr>\n",
       "    <tr>\n",
       "      <th>3</th>\n",
       "      <td>@jason_gio meh. :p  thanks for the heads up, b...</td>\n",
       "      <td>3</td>\n",
       "    </tr>\n",
       "    <tr>\n",
       "      <th>4</th>\n",
       "      <td>@rudhoeenglish this is an isis account pretend...</td>\n",
       "      <td>3</td>\n",
       "    </tr>\n",
       "    <tr>\n",
       "      <th>5</th>\n",
       "      <td>@raja5aab @quickieleaks yes, the test of god i...</td>\n",
       "      <td>3</td>\n",
       "    </tr>\n",
       "    <tr>\n",
       "      <th>6</th>\n",
       "      <td>itu sekolah ya bukan tempat bully! ga jauh kay...</td>\n",
       "      <td>3</td>\n",
       "    </tr>\n",
       "    <tr>\n",
       "      <th>7</th>\n",
       "      <td>karma. i hope it bites kat on the butt. she is...</td>\n",
       "      <td>3</td>\n",
       "    </tr>\n",
       "    <tr>\n",
       "      <th>8</th>\n",
       "      <td>@stockputout everything but mostly my priest</td>\n",
       "      <td>3</td>\n",
       "    </tr>\n",
       "    <tr>\n",
       "      <th>9</th>\n",
       "      <td>rebecca black drops out of school due to bully...</td>\n",
       "      <td>3</td>\n",
       "    </tr>\n",
       "  </tbody>\n",
       "</table>\n",
       "</div>"
      ],
      "text/plain": [
       "                                          tweet_text  cyberbullying_type\n",
       "0  in other words #katandandre, your food was cra...                   3\n",
       "1  why is #aussietv so white? #mkr #theblock #ima...                   3\n",
       "2  @xochitlsuckkks a classy whore? or more red ve...                   3\n",
       "3  @jason_gio meh. :p  thanks for the heads up, b...                   3\n",
       "4  @rudhoeenglish this is an isis account pretend...                   3\n",
       "5  @raja5aab @quickieleaks yes, the test of god i...                   3\n",
       "6  itu sekolah ya bukan tempat bully! ga jauh kay...                   3\n",
       "7  karma. i hope it bites kat on the butt. she is...                   3\n",
       "8       @stockputout everything but mostly my priest                   3\n",
       "9  rebecca black drops out of school due to bully...                   3"
      ]
     },
     "execution_count": 51,
     "metadata": {},
     "output_type": "execute_result"
    }
   ],
   "source": [
    "data.head(10)"
   ]
  },
  {
   "cell_type": "markdown",
   "metadata": {},
   "source": [
    "-----------\n",
    "\n",
    "##### **Preparación de Modelos**\n",
    "\n",
    "Para este proyecto, se crearon 2 modelos diferentes.\n",
    "\n",
    "El primer modelo es un modelo de **clasificación binaria**. Este modelo tiene como objetivo clasificar los tweets en 2 clases: cyberbullying y no cyberbullying. Para ello, se utilizó la columna 'cyberbullying_type' del dataset.\n",
    "\n",
    "El segundo modelo se centra en **detectar el tipo de ciberacoso** presente, considerando la edad, género, religión y etnia como posibles categorías.\n",
    "\n",
    "\n",
    "Se busca crear 2 modelos para pasarle al primero un tweet y que este nos diga si representa ciberacoso o no. En caso de que el tweet represente ciberacoso, se le pasará al segundo modelo para que nos diga qué tipo de ciberacoso es."
   ]
  },
  {
   "cell_type": "code",
   "execution_count": null,
   "metadata": {},
   "outputs": [
    {
     "name": "stdout",
     "output_type": "stream",
     "text": [
      "\n",
      "Modelo 1: Cyberbullying vs. Not Cyberbullying\n",
      "\n",
      "cyberbullying_type\n",
      "0    7937\n",
      "1    7936\n",
      "Name: count, dtype: int64\n"
     ]
    }
   ],
   "source": [
    "modelo1 = data.__deepcopy__()\n",
    "modelo2 = data.__deepcopy__()\n",
    "\n",
    "# Modelo 1: Cyberbullying vs. Not Cyberbullying\n",
    "\n",
    "# Separate `not_cyberbullying` and `cyberbullying` data\n",
    "not_cyberbullying = modelo1[modelo1['cyberbullying_type'] == 3]\n",
    "age = modelo1[modelo1['cyberbullying_type'] == 0]\n",
    "ethnicity = modelo1[modelo1['cyberbullying_type'] == 1]\n",
    "gender = modelo1[modelo1['cyberbullying_type'] == 2]\n",
    "religion = modelo1[modelo1['cyberbullying_type'] == 4]\n",
    "\n",
    "sample_size = int(len(not_cyberbullying)/4)\n",
    "sampled_age = age.sample(n=sample_size, replace=True, random_state=42)\n",
    "sampled_gender = gender.sample(n=sample_size, replace=True, random_state=42)\n",
    "sampled_religion = religion.sample(n=sample_size, replace=True, random_state=42)\n",
    "sampled_ethnicity = ethnicity.sample(n=sample_size, replace=True, random_state=42)\n",
    "\n",
    "# Combine `sampled_cyberbullying` and `not_cyberbullying` data to create a new balanced dataframe\n",
    "modelo1 = pd.concat([not_cyberbullying, sampled_gender, sampled_age, sampled_ethnicity, sampled_religion])\n",
    "\n",
    "# Remplazar label age, gender, religion, ethnicity por 1\n",
    "modelo1['cyberbullying_type'] = modelo1['cyberbullying_type'].replace([0, 1, 2, 4], 1)\n",
    "\n",
    "# Remplazar label not_cyberbullying por 0\n",
    "modelo1['cyberbullying_type'] = modelo1['cyberbullying_type'].replace([3], 0)\n",
    "\n",
    "# Contar la frecuencia de cada valor único en la columna \"cyberbullying_type\"\n",
    "frecuencias = modelo1['cyberbullying_type'].value_counts()\n",
    "\n",
    "# Mostrar los resultados\n",
    "print(\"\\nModelo 1: Cyberbullying vs. Not Cyberbullying\\n\")\n",
    "print(frecuencias)"
   ]
  },
  {
   "cell_type": "code",
   "execution_count": null,
   "metadata": {},
   "outputs": [
    {
     "name": "stdout",
     "output_type": "stream",
     "text": [
      "\n",
      "Modelo 2: Cyberbullying Type\n",
      "\n",
      "cyberbullying_type\n",
      "0    7979\n",
      "1    7953\n",
      "2    7947\n",
      "3    7937\n",
      "Name: count, dtype: int64\n"
     ]
    }
   ],
   "source": [
    "# Modelo 2: Tipos de Cyberbullying\n",
    "\n",
    "# Separate `not_cyberbullying` and `cyberbullying` data\n",
    "age = modelo2[modelo2['cyberbullying_type'] == 0]\n",
    "gender = modelo2[modelo2['cyberbullying_type'] == 2]\n",
    "religion = modelo2[modelo2['cyberbullying_type'] == 3]\n",
    "ethnicity = modelo2[modelo2['cyberbullying_type'] == 1]\n",
    "\n",
    "# Combine `sampled_cyberbullying` and `not_cyberbullying` data to create a new balanced dataframe\n",
    "modelo2 = pd.concat([gender, age, ethnicity, religion])\n",
    "\n",
    "# Contar la frecuencia de cada valor único en la columna \"cyberbullying_type\"\n",
    "frecuencias = modelo2['cyberbullying_type'].value_counts()\n",
    "\n",
    "# Mostrar los resultados\n",
    "print(\"\\nModelo 2: Cyberbullying Type\\n\")\n",
    "print(frecuencias)"
   ]
  },
  {
   "cell_type": "markdown",
   "metadata": {},
   "source": [
    "Con los dos datasets creados, se procedió a **dividirlos en datos de entrenamiento y datos de prueba**. Para ello, se utilizó la función 'train_test_split()' de la librería 'sklearn.model_selection'.\n",
    "\n"
   ]
  },
  {
   "cell_type": "code",
   "execution_count": null,
   "metadata": {},
   "outputs": [],
   "source": [
    "X_train_m1, X_test_m1, y_train_m1, y_test_m1 = train_test_split(modelo1['tweet_text'], modelo1['cyberbullying_type'], test_size=0.2, random_state=42)\n",
    "\n",
    "X_train_m2, X_test_m2, y_train_m2, y_test_m2 = train_test_split(modelo2['tweet_text'], modelo2['cyberbullying_type'], test_size=0.2, random_state=42)"
   ]
  },
  {
   "cell_type": "markdown",
   "metadata": {},
   "source": [
    "-----------\n",
    "\n",
    "##### **Diseño y Entrenamiento de Modelos (LSTM)**\n",
    "\n",
    "Como primer paso, se tokenizaron los tweets para poder alimentar los modelos LSTM. Para ello, se utilizó la función 'Tokenizer()' de la librería 'keras.preprocessing.text'."
   ]
  },
  {
   "cell_type": "code",
   "execution_count": null,
   "metadata": {},
   "outputs": [],
   "source": [
    "# Tokenización de texto de Modelo 1\n",
    "tokenizer1 = Tokenizer()\n",
    "tokenizer1.fit_on_texts(X_train_m1)\n",
    "X_train_sequences_m1 = tokenizer1.texts_to_sequences(X_train_m1)\n",
    "X_valid_sequences_m1 = tokenizer1.texts_to_sequences(X_test_m1)\n",
    "\n",
    "# Tokenización de texto de Modelo 2\n",
    "tokenizer2 = Tokenizer()\n",
    "tokenizer2.fit_on_texts(X_train_m2)\n",
    "X_train_sequences_m2 = tokenizer2.texts_to_sequences(X_train_m2)\n",
    "X_valid_sequences_m2 = tokenizer2.texts_to_sequences(X_test_m2)"
   ]
  },
  {
   "cell_type": "markdown",
   "metadata": {},
   "source": [
    "Posteriormente, se secuenció y rellenó los diferentes comentarios para que todos tengan una longitud uniforme. En este caso se utilizó una longitud 200.\n",
    "\n",
    "sequence.pad_sequences es una función de Keras que se utiliza para rellenar las secuencias. Si se pasa del largo máximo, se trunca la secuencia. Si es menor, se rellena con ceros."
   ]
  },
  {
   "cell_type": "code",
   "execution_count": null,
   "metadata": {},
   "outputs": [],
   "source": [
    "# Padding de secuencias para que tengan la misma longitud\n",
    "max_length = 250  # longitud máxima de una secuencia\n",
    "\n",
    "X_train_m1_padded = pad_sequences(X_train_sequences_m1, maxlen=max_length)\n",
    "X_valid_m1_padded = pad_sequences(X_valid_sequences_m1, maxlen=max_length)\n",
    "\n",
    "X_train_m2_padded = pad_sequences(X_train_sequences_m2, maxlen=max_length)\n",
    "X_valid_m2_padded = pad_sequences(X_valid_sequences_m2, maxlen=max_length)"
   ]
  },
  {
   "cell_type": "markdown",
   "metadata": {},
   "source": [
    "Cuando ya se tenía los datos de entrenamiento y prueba, se procedió a **diseñar y entrenar el primer modelo**. Para ello, se utilizó la función 'Sequential()' de la librería 'keras.models'."
   ]
  },
  {
   "cell_type": "code",
   "execution_count": null,
   "metadata": {},
   "outputs": [
    {
     "name": "stderr",
     "output_type": "stream",
     "text": [
      "2023-11-09 18:27:23.028771: I metal_plugin/src/device/metal_device.cc:1154] Metal device set to: Apple M2 Max\n",
      "2023-11-09 18:27:23.028789: I metal_plugin/src/device/metal_device.cc:296] systemMemory: 32.00 GB\n",
      "2023-11-09 18:27:23.028796: I metal_plugin/src/device/metal_device.cc:313] maxCacheSize: 10.67 GB\n",
      "2023-11-09 18:27:23.028842: I tensorflow/core/common_runtime/pluggable_device/pluggable_device_factory.cc:306] Could not identify NUMA node of platform GPU ID 0, defaulting to 0. Your kernel may not have been built with NUMA support.\n",
      "2023-11-09 18:27:23.028874: I tensorflow/core/common_runtime/pluggable_device/pluggable_device_factory.cc:272] Created TensorFlow device (/job:localhost/replica:0/task:0/device:GPU:0 with 0 MB memory) -> physical PluggableDevice (device: 0, name: METAL, pci bus id: <undefined>)\n"
     ]
    },
    {
     "name": "stdout",
     "output_type": "stream",
     "text": [
      "WARNING:tensorflow:Layer lstm will not use cuDNN kernels since it doesn't meet the criteria. It will use a generic GPU kernel as fallback when running on GPU.\n",
      "WARNING:tensorflow:Layer lstm_1 will not use cuDNN kernels since it doesn't meet the criteria. It will use a generic GPU kernel as fallback when running on GPU.\n",
      "Epoch 1/5\n"
     ]
    },
    {
     "name": "stderr",
     "output_type": "stream",
     "text": [
      "2023-11-09 18:27:25.394041: I tensorflow/core/grappler/optimizers/custom_graph_optimizer_registry.cc:117] Plugin optimizer for device_type GPU is enabled.\n"
     ]
    }
   ],
   "source": [
    "# ---------------------- Modelo 1 ----------------------\n",
    "\n",
    "# Crear modelo\n",
    "model1_lstm = Sequential()\n",
    "model1_lstm.add(Embedding(input_dim=len(tokenizer1.word_index)+1, output_dim=128, input_length=max_length))\n",
    "\n",
    "model1_lstm.add(LSTM(units=64, dropout=0.2, recurrent_dropout=0.2, return_sequences=True))\n",
    "model1_lstm.add(LSTM(units=32, dropout=0.2, recurrent_dropout=0.2, return_sequences=False))\n",
    "\n",
    "model1_lstm.add(Dense(units=16, activation='relu'))\n",
    "\n",
    "model1_lstm.add(Dense(units=1, activation='sigmoid'))\n",
    "\n",
    "# Compilar modelo\n",
    "model1_lstm.compile(loss='binary_crossentropy', optimizer='adam', metrics=['accuracy'])\n",
    "\n",
    "# Early stopping\n",
    "early_stopping = EarlyStopping(monitor='val_loss', patience=1, restore_best_weights=True)\n",
    "\n",
    "# Entrenar modelo\n",
    "model1_lstm.fit(X_train_m1_padded, y_train_m1, batch_size=128, epochs=5, validation_data=(X_valid_m1_padded, y_test_m1), callbacks=[early_stopping])\n",
    "\n",
    "# Resultados de entrenamiento\n",
    "loss, accuracy = model1_lstm.evaluate(X_valid_m1_padded, y_test_m1, verbose=False)\n",
    "print(f\"Test Loss: {loss}, Test Accuracy: {accuracy}\")\n",
    "\n",
    "# Guardar modelo\n",
    "model1_lstm.save('model1_lstm.h5')"
   ]
  },
  {
   "cell_type": "code",
   "execution_count": null,
   "metadata": {},
   "outputs": [
    {
     "name": "stdout",
     "output_type": "stream",
     "text": [
      "Epoch 1/5\n",
      "199/199 [==============================] - 160s 755ms/step - loss: 0.4972 - accuracy: 0.8194 - val_loss: 0.2201 - val_accuracy: 0.9214\n",
      "Epoch 2/5\n",
      "199/199 [==============================] - 151s 755ms/step - loss: 0.1720 - accuracy: 0.9401 - val_loss: 0.2014 - val_accuracy: 0.9321\n",
      "Epoch 3/5\n",
      "199/199 [==============================] - 144s 725ms/step - loss: 0.1237 - accuracy: 0.9580 - val_loss: 0.2193 - val_accuracy: 0.9252\n",
      "Test Loss: 0.20138601958751678, Test Accuracy: 0.9321473836898804\n"
     ]
    }
   ],
   "source": [
    "# ---------------------- Modelo 2 ----------------------\n",
    "\n",
    "# Crear modelo\n",
    "model2_lstm = Sequential()\n",
    "model2_lstm.add(Embedding(input_dim=len(tokenizer2.word_index)+1, output_dim=128, input_length=max_length))\n",
    "\n",
    "model2_lstm.add(LSTM(units=64, dropout=0.2, recurrent_dropout=0.2, return_sequences=True))\n",
    "model2_lstm.add(LSTM(units=32, dropout=0.2, recurrent_dropout=0.2, return_sequences=False))\n",
    "\n",
    "model2_lstm.add(Dense(units=16, activation='relu'))\n",
    "\n",
    "model2_lstm.add(Dense(units=4, activation='softmax'))\n",
    "\n",
    "# Compilar modelo\n",
    "model2_lstm.compile(loss='sparse_categorical_crossentropy', optimizer='adam', metrics=['accuracy'])\n",
    "\n",
    "# Early stopping\n",
    "early_stopping = EarlyStopping(monitor='val_loss', patience=1, restore_best_weights=True)\n",
    "\n",
    "# Entrenar modelo\n",
    "model2_lstm.fit(X_train_m2_padded, y_train_m2, batch_size=128, epochs=5, validation_data=(X_valid_m2_padded, y_test_m2), callbacks=[early_stopping])\n",
    "\n",
    "# Resultados de entrenamiento\n",
    "loss, accuracy = model2_lstm.evaluate(X_valid_m2_padded, y_test_m2, verbose=False)\n",
    "print(f\"Test Loss: {loss}, Test Accuracy: {accuracy}\")\n",
    "\n",
    "# Guardar modelo\n",
    "model2_lstm.save('model2_lstm.h5')"
   ]
  },
  {
   "cell_type": "markdown",
   "metadata": {},
   "source": [
    "Finalmente, se procedió a **evaluar los modelos**. Para ello, se utilizó classification_report de la librería 'sklearn.metrics'."
   ]
  },
  {
   "cell_type": "code",
   "execution_count": null,
   "metadata": {},
   "outputs": [
    {
     "name": "stdout",
     "output_type": "stream",
     "text": [
      "100/100 [==============================] - 7s 63ms/step\n",
      "              precision    recall  f1-score   support\n",
      "\n",
      "           0       0.90      0.95      0.93      1571\n",
      "           1       0.95      0.90      0.92      1604\n",
      "\n",
      "    accuracy                           0.92      3175\n",
      "   macro avg       0.93      0.92      0.92      3175\n",
      "weighted avg       0.93      0.92      0.92      3175\n",
      "\n"
     ]
    }
   ],
   "source": [
    "# ---------------------- Modelo 1 ----------------------\n",
    "\n",
    "# classification report\n",
    "y_pred_m1 = model1_lstm.predict(X_valid_m1_padded)\n",
    "y_pred_m1 = np.round(y_pred_m1).astype(int)\n",
    "\n",
    "print(classification_report(y_test_m1, y_pred_m1))"
   ]
  },
  {
   "cell_type": "code",
   "execution_count": null,
   "metadata": {},
   "outputs": [
    {
     "name": "stdout",
     "output_type": "stream",
     "text": [
      "199/199 [==============================] - 14s 67ms/step\n",
      "              precision    recall  f1-score   support\n",
      "\n",
      "           0       0.98      0.98      0.98      1632\n",
      "           1       0.99      0.98      0.98      1542\n",
      "           2       0.92      0.87      0.89      1582\n",
      "           3       0.85      0.91      0.88      1596\n",
      "\n",
      "    accuracy                           0.93      6352\n",
      "   macro avg       0.93      0.93      0.93      6352\n",
      "weighted avg       0.93      0.93      0.93      6352\n",
      "\n"
     ]
    }
   ],
   "source": [
    "# ---------------------- Modelo 2 ----------------------\n",
    "\n",
    "# classification report\n",
    "y_pred_m2 = model2_lstm.predict(X_valid_m2_padded)\n",
    "y_pred_m2 = np.argmax(y_pred_m2, axis=1)\n",
    "\n",
    "print(classification_report(y_test_m2, y_pred_m2))"
   ]
  }
 ],
 "metadata": {
  "kernelspec": {
   "display_name": "Python 3",
   "language": "python",
   "name": "python3"
  },
  "language_info": {
   "codemirror_mode": {
    "name": "ipython",
    "version": 3
   },
   "file_extension": ".py",
   "mimetype": "text/x-python",
   "name": "python",
   "nbconvert_exporter": "python",
   "pygments_lexer": "ipython3",
   "version": "3.9.2"
  }
 },
 "nbformat": 4,
 "nbformat_minor": 2
}
