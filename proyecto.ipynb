{
 "cells": [
  {
   "cell_type": "markdown",
   "metadata": {},
   "source": [
    "### **Deep Learning - Proyecto Final**\n",
    "\n",
    "Stefano Aragoni, Carol Arévalo\n",
    "\n",
    "----------"
   ]
  },
  {
   "cell_type": "markdown",
   "metadata": {},
   "source": [
    "##### **Introducción**\n",
    "El cyberbullying es una forma de acoso que se lleva a cabo a través de medios electrónicos, como las redes sociales. Este se caracteriza por ser –en su mayoría de instancias– anónimo y por la facilidad con la que los agresores pueden unirse y atacar a las víctimas. Es un problema grave que puede tener consecuencias emocionales y psicológicas significativas para quienes lo sufren. En realidad, según varios estudios, los adolescentes víctimas de ciberacoso son 4 veces más probables a tener pensamientos suicidas a comparación de aquellos que no reciben este tipo de acoso\n",
    "\n",
    "En el presente trabajo se busca afrontar la problemática de ciberacoso en redes sociales a través de deep learning. Esto con el propósito de poder ayudar a la salud mental de aquellas personas que son víctimas de este tipo de violencia.\n",
    "\n",
    "--------"
   ]
  },
  {
   "cell_type": "markdown",
   "metadata": {},
   "source": [
    "##### **Análisis Exploratorio**\n",
    "\n",
    "Para este proyecto, se utilizó un dataset presentado en la ‘Conferencia Internacional de Big Data’ en el 2020. Esta almacena tweets junto con una clasificación de los mismos para indicar si estos representan ciberacoso o no. A partir de esta base de datos, se realizó un análisis exploratorio. "
   ]
  },
  {
   "cell_type": "markdown",
   "metadata": {},
   "source": [
    "Como primer paso, se **importaron las librerías necesarias** para el análisis exploratorio y el preprocesamiento de los datos.\n",
    "\n"
   ]
  },
  {
   "cell_type": "code",
   "execution_count": 3,
   "metadata": {},
   "outputs": [
    {
     "name": "stderr",
     "output_type": "stream",
     "text": [
      "[nltk_data] Downloading package stopwords to\n",
      "[nltk_data]     /Users/stefanoaragoni/nltk_data...\n",
      "[nltk_data]   Package stopwords is already up-to-date!\n"
     ]
    }
   ],
   "source": [
    "# Importaciones de bibliotecas estándar\n",
    "import numpy as np\n",
    "import pandas as pd\n",
    "import re\n",
    "from collections import Counter\n",
    "from copy import deepcopy\n",
    "from tqdm import tqdm\n",
    "\n",
    "# Importaciones de visualización\n",
    "import seaborn as sns\n",
    "import matplotlib.pyplot as plt\n",
    "from pandas.plotting import scatter_matrix\n",
    "from prettytable import PrettyTable\n",
    "\n",
    "# Importaciones de procesamiento de texto y NLP\n",
    "import nltk\n",
    "from nltk.corpus import stopwords\n",
    "from nltk.stem import PorterStemmer\n",
    "\n",
    "nltk.download('stopwords')\n",
    "\n",
    "# Importaciones de aprendizaje automático y ciencia de datos\n",
    "from sklearn import datasets\n",
    "from sklearn.feature_extraction.text import CountVectorizer\n",
    "from sklearn.preprocessing import LabelEncoder, OneHotEncoder\n",
    "from keras.preprocessing.text import Tokenizer\n",
    "from keras.models import Sequential\n",
    "from keras.layers import Embedding, LSTM, Dense, BatchNormalization, Dropout\n",
    "from keras.callbacks import EarlyStopping\n",
    "from keras.regularizers import l2\n",
    "from keras.optimizers import SGD\n",
    "\n",
    "from keras.preprocessing.sequence import pad_sequences\n",
    "from sklearn.model_selection import (\n",
    "    train_test_split,\n",
    ")\n",
    "from sklearn.metrics import (\n",
    "    confusion_matrix,\n",
    "    accuracy_score,\n",
    "    classification_report\n",
    ")\n",
    "\n",
    "# Otras importaciones\n",
    "from tqdm import tqdm\n",
    "import pickle"
   ]
  },
  {
   "cell_type": "markdown",
   "metadata": {},
   "source": [
    "Posteriormente, se **cargó el dataset** y se visualizaron las primeras 5 filas para tener una idea de la estructura de los datos.\n",
    "\n",
    "Como se puede observar, el dataset cuenta con 2 columnas: 'tweet_text' y 'cyberbullying_type'. La primera almacena el texto del tweet y la segunda indica si este representa ciberacoso o no."
   ]
  },
  {
   "cell_type": "code",
   "execution_count": 4,
   "metadata": {},
   "outputs": [
    {
     "data": {
      "text/html": [
       "<div>\n",
       "<style scoped>\n",
       "    .dataframe tbody tr th:only-of-type {\n",
       "        vertical-align: middle;\n",
       "    }\n",
       "\n",
       "    .dataframe tbody tr th {\n",
       "        vertical-align: top;\n",
       "    }\n",
       "\n",
       "    .dataframe thead th {\n",
       "        text-align: right;\n",
       "    }\n",
       "</style>\n",
       "<table border=\"1\" class=\"dataframe\">\n",
       "  <thead>\n",
       "    <tr style=\"text-align: right;\">\n",
       "      <th></th>\n",
       "      <th>tweet_text</th>\n",
       "      <th>cyberbullying_type</th>\n",
       "    </tr>\n",
       "  </thead>\n",
       "  <tbody>\n",
       "    <tr>\n",
       "      <th>0</th>\n",
       "      <td>In other words #katandandre, your food was cra...</td>\n",
       "      <td>not_cyberbullying</td>\n",
       "    </tr>\n",
       "    <tr>\n",
       "      <th>1</th>\n",
       "      <td>Why is #aussietv so white? #MKR #theblock #ImA...</td>\n",
       "      <td>not_cyberbullying</td>\n",
       "    </tr>\n",
       "    <tr>\n",
       "      <th>2</th>\n",
       "      <td>@XochitlSuckkks a classy whore? Or more red ve...</td>\n",
       "      <td>not_cyberbullying</td>\n",
       "    </tr>\n",
       "    <tr>\n",
       "      <th>3</th>\n",
       "      <td>@Jason_Gio meh. :P  thanks for the heads up, b...</td>\n",
       "      <td>not_cyberbullying</td>\n",
       "    </tr>\n",
       "    <tr>\n",
       "      <th>4</th>\n",
       "      <td>@RudhoeEnglish This is an ISIS account pretend...</td>\n",
       "      <td>not_cyberbullying</td>\n",
       "    </tr>\n",
       "  </tbody>\n",
       "</table>\n",
       "</div>"
      ],
      "text/plain": [
       "                                          tweet_text cyberbullying_type\n",
       "0  In other words #katandandre, your food was cra...  not_cyberbullying\n",
       "1  Why is #aussietv so white? #MKR #theblock #ImA...  not_cyberbullying\n",
       "2  @XochitlSuckkks a classy whore? Or more red ve...  not_cyberbullying\n",
       "3  @Jason_Gio meh. :P  thanks for the heads up, b...  not_cyberbullying\n",
       "4  @RudhoeEnglish This is an ISIS account pretend...  not_cyberbullying"
      ]
     },
     "execution_count": 4,
     "metadata": {},
     "output_type": "execute_result"
    }
   ],
   "source": [
    "#cargar dataset\n",
    "data = pd.read_csv('cyberbullying_tweets_clean.csv')\n",
    "\n",
    "# Imprimir las primeras 5 filas\n",
    "data.head()"
   ]
  },
  {
   "cell_type": "markdown",
   "metadata": {},
   "source": [
    "Asimismo, se quiso determinar la presencia de **valores nulos o vacíos en el dataset**. Para ello, se utilizó la función 'isnull()' y se sumaron los valores nulos por columna. Como se puede observar, no existen valores nulos en el dataset."
   ]
  },
  {
   "cell_type": "code",
   "execution_count": 5,
   "metadata": {},
   "outputs": [
    {
     "data": {
      "text/plain": [
       "tweet_text            0\n",
       "cyberbullying_type    0\n",
       "dtype: int64"
      ]
     },
     "execution_count": 5,
     "metadata": {},
     "output_type": "execute_result"
    }
   ],
   "source": [
    "# Determinar valores nulos o faltantes\n",
    "data.isnull().sum()"
   ]
  },
  {
   "cell_type": "markdown",
   "metadata": {},
   "source": [
    "Asimismo, cabe destacar que se quiso determinar si habían **datos dupllicados**. Para ello, se utilizó la función 'duplicated()' y se sumaron los valores duplicados por columna. En este caso, s´i se encontraron datos duplicados. Por ello, se procedió a eliminarlos."
   ]
  },
  {
   "cell_type": "code",
   "execution_count": 6,
   "metadata": {},
   "outputs": [
    {
     "name": "stdout",
     "output_type": "stream",
     "text": [
      "Número de datos duplicados:  59\n",
      "Número de datos duplicados (post-limpieza):  0\n"
     ]
    }
   ],
   "source": [
    "data['tweet_text'] = data['tweet_text'].str.lower()\n",
    "\n",
    "#verificar datos duplicados\n",
    "print(\"Número de datos duplicados: \", data.duplicated().sum())\n",
    "\n",
    "#eliminar datos duplicados\n",
    "data.drop_duplicates(inplace=True)\n",
    "\n",
    "#verificar datos duplicados\n",
    "print(\"Número de datos duplicados (post-limpieza): \", data.duplicated().sum())"
   ]
  },
  {
   "cell_type": "markdown",
   "metadata": {},
   "source": [
    "Con eso listo, se procedió a **visualizar la cantidad de tweets que representan ciberacoso y los que no**. \n",
    "\n",
    "\n",
    "Como se puede observar a continuación, pareciera que el dataset está balanceado. Esto debido a que cada clase cuenta con una cantidad similar de tweets. \n",
    "\n",
    "Sin embargo, religion, age, gender, ethnicity combinados representan el 80% de los tweets. Por tal motivo, al verlo como dos clases (cyberbullying y no cyberbullying) se puede observar que el dataset está desbalanceado. Esto debido a que la clase cyberbullying representa el 20% de los tweets, mientras que la clase no cyberbullying representa el 80% de los tweets."
   ]
  },
  {
   "cell_type": "code",
   "execution_count": 7,
   "metadata": {},
   "outputs": [
    {
     "name": "stdout",
     "output_type": "stream",
     "text": [
      "cyberbullying_type\n",
      "religion             7994\n",
      "age                  7979\n",
      "ethnicity            7953\n",
      "gender               7947\n",
      "not_cyberbullying    7937\n",
      "Name: count, dtype: int64\n"
     ]
    },
    {
     "data": {
      "image/png": "[encoded data removed]",
      "text/plain": [
       "<Figure size 640x480 with 1 Axes>"
      ]
     },
     "metadata": {},
     "output_type": "display_data"
    }
   ],
   "source": [
    "# Contar la frecuencia de cada valor único en la columna \"cyberbullying_type\"\n",
    "frecuencias = data['cyberbullying_type'].value_counts()\n",
    "\n",
    "# Mostrar los resultados\n",
    "print(frecuencias)\n",
    "\n",
    "# Visualizar la distribución de clases\n",
    "class_counts = data['cyberbullying_type'].value_counts()\n",
    "class_counts.plot(kind='bar')\n",
    "plt.title('Distribución de clases')\n",
    "plt.xlabel('Clases')\n",
    "plt.ylabel('Frecuencia')\n",
    "plt.show()"
   ]
  },
  {
   "cell_type": "markdown",
   "metadata": {},
   "source": [
    "----------\n",
    "\n",
    "##### **Preprocesamiento de Datos**\n",
    "\n",
    "Para obtener datos más limpios se eliminaron hipervínculos, etiquetas y menciones de los comentarios. Asimismo, se eliminaron palabras vacías del idioma inglés que no aportan ninguna información relevante al modelo. En base a esto, se analizó cuáles eran las palabras más comunes en la base de datos. "
   ]
  },
  {
   "cell_type": "code",
   "execution_count": 8,
   "metadata": {},
   "outputs": [
    {
     "name": "stderr",
     "output_type": "stream",
     "text": [
      "100%|██████████| 39810/39810 [00:57<00:00, 695.51it/s]\n"
     ]
    }
   ],
   "source": [
    "# Remover URLs, menciones y hashtags\n",
    "new_tweets = []\n",
    "new_types = []\n",
    "\n",
    "def remove_urls_mentions_hashtags(text, type):\n",
    "\n",
    "    text = text.lower()\n",
    "    text = re.sub(r'http\\S+', '', text) # URLs\n",
    "    text = re.sub(r'@\\S+', '', text) # Menciones\n",
    "    text = re.sub(r'#\\S+', ' ', text) # Hashtags\n",
    "    text = re.sub('<.*?>', '', text) # HTML tags\n",
    "    text = re.sub('[^a-zA-Z]', ' ', text) # Puntuación y números\n",
    "\n",
    "    stemmer = PorterStemmer()\n",
    "    text = text.split()\n",
    "    text = [stemmer.stem(word) for word in text if not word in set(stopwords.words('english'))]\n",
    "    text = ' '.join(text)\n",
    "\n",
    "    return text, type\n",
    "\n",
    "for i in tqdm(range(len(data))):\n",
    "    try:\n",
    "        text, type = remove_urls_mentions_hashtags(data['tweet_text'][i], data['cyberbullying_type'][i])\n",
    "        new_tweets.append(text)\n",
    "        new_types.append(type)\n",
    "    except:\n",
    "        pass\n",
    "\n",
    "data = pd.DataFrame({\n",
    "    'tweet_text': new_tweets,\n",
    "    'cyberbullying_type': new_types\n",
    "})"
   ]
  },
  {
   "cell_type": "markdown",
   "metadata": {},
   "source": [
    "Después de haber realizado la limpieza de los tweets, se procedió a analizar **cuáles eran las palabras más comunes** en la base de datos. Para ello, se utilizó la función 'most_common()' de la librería 'collections'.\n",
    "\n",
    "Como se puede observar, insultos y palabras ofensivas son las palabras más comunes en el dataset."
   ]
  },
  {
   "cell_type": "code",
   "execution_count": 9,
   "metadata": {},
   "outputs": [
    {
     "name": "stdout",
     "output_type": "stream",
     "text": [
      "+---------+------------+\n",
      "| Palabra | Frecuencia |\n",
      "+---------+------------+\n",
      "|  bulli  |   10357    |\n",
      "|  school |    9218    |\n",
      "|   fuck  |    7395    |\n",
      "|   like  |    5850    |\n",
      "|  nigger |    5703    |\n",
      "|   joke  |    5598    |\n",
      "|   girl  |    5535    |\n",
      "|   dumb  |    5326    |\n",
      "|   high  |    5224    |\n",
      "|  muslim |    4951    |\n",
      "+---------+------------+\n"
     ]
    }
   ],
   "source": [
    "# Frecuencia de cada palabra\n",
    "tweets = ' '.join(data['tweet_text'].values)\n",
    "words = tweets.split()\n",
    "\n",
    "frecuencia = Counter(words).most_common(10)\n",
    "\n",
    "table = PrettyTable()\n",
    "table.field_names = ['Palabra', 'Frecuencia']\n",
    "for i in range(len(frecuencia)):\n",
    "    table.add_row([frecuencia[i][0], frecuencia[i][1]])\n",
    "\n",
    "print(table)\n"
   ]
  },
  {
   "cell_type": "markdown",
   "metadata": {},
   "source": [
    "Asimismo, se procedió a **visualizar las palabras más comunes en los tweets que representan ciberacoso**. Nuevamente, insultos y palabras ofensivas son las palabras más comunes en el dataset."
   ]
  },
  {
   "cell_type": "code",
   "execution_count": 10,
   "metadata": {},
   "outputs": [
    {
     "data": {
      "image/png": "[encoded data removed]",
      "text/plain": [
       "<Figure size 640x480 with 1 Axes>"
      ]
     },
     "metadata": {},
     "output_type": "display_data"
    }
   ],
   "source": [
    "# Visualizar las palabras más frecuentes\n",
    "plt.bar(*zip(*frecuencia))\n",
    "plt.title('Top palabras más frecuentes')\n",
    "plt.xlabel('Palabras')\n",
    "plt.ylabel('Frecuencia')\n",
    "plt.show()"
   ]
  },
  {
   "cell_type": "markdown",
   "metadata": {},
   "source": [
    "Finalmente, se prosiguió a **encodear las etiquetas de los tweets**. Para ello, se utilizó la función 'LabelEncoder()' de la librería 'sklearn'."
   ]
  },
  {
   "cell_type": "code",
   "execution_count": 11,
   "metadata": {},
   "outputs": [
    {
     "name": "stdout",
     "output_type": "stream",
     "text": [
      "Clases: ['age' 'ethnicity' 'gender' 'not_cyberbullying' 'religion']\n",
      "Códigos: [0 1 2 3 4]\n"
     ]
    }
   ],
   "source": [
    "# Encodificar las clases\n",
    "label_encoder = LabelEncoder()\n",
    "data['cyberbullying_type'] = label_encoder.fit_transform(data['cyberbullying_type'])\n",
    "\n",
    "# Imprimir las clases y sus respectivos códigos\n",
    "print('Clases:', label_encoder.classes_)\n",
    "print('Códigos:', label_encoder.transform(label_encoder.classes_))\n"
   ]
  },
  {
   "cell_type": "code",
   "execution_count": 12,
   "metadata": {},
   "outputs": [
    {
     "data": {
      "text/html": [
       "<div>\n",
       "<style scoped>\n",
       "    .dataframe tbody tr th:only-of-type {\n",
       "        vertical-align: middle;\n",
       "    }\n",
       "\n",
       "    .dataframe tbody tr th {\n",
       "        vertical-align: top;\n",
       "    }\n",
       "\n",
       "    .dataframe thead th {\n",
       "        text-align: right;\n",
       "    }\n",
       "</style>\n",
       "<table border=\"1\" class=\"dataframe\">\n",
       "  <thead>\n",
       "    <tr style=\"text-align: right;\">\n",
       "      <th></th>\n",
       "      <th>tweet_text</th>\n",
       "      <th>cyberbullying_type</th>\n",
       "    </tr>\n",
       "  </thead>\n",
       "  <tbody>\n",
       "    <tr>\n",
       "      <th>0</th>\n",
       "      <td>word food crapilici</td>\n",
       "      <td>3</td>\n",
       "    </tr>\n",
       "    <tr>\n",
       "      <th>1</th>\n",
       "      <td>white</td>\n",
       "      <td>3</td>\n",
       "    </tr>\n",
       "    <tr>\n",
       "      <th>2</th>\n",
       "      <td>classi whore red velvet cupcak</td>\n",
       "      <td>3</td>\n",
       "    </tr>\n",
       "    <tr>\n",
       "      <th>3</th>\n",
       "      <td>meh p thank head concern anoth angri dude twitter</td>\n",
       "      <td>3</td>\n",
       "    </tr>\n",
       "    <tr>\n",
       "      <th>4</th>\n",
       "      <td>isi account pretend kurdish account like islam...</td>\n",
       "      <td>3</td>\n",
       "    </tr>\n",
       "    <tr>\n",
       "      <th>5</th>\n",
       "      <td>ye test god good bad indiffer weird whatev pro...</td>\n",
       "      <td>3</td>\n",
       "    </tr>\n",
       "    <tr>\n",
       "      <th>6</th>\n",
       "      <td>itu sekolah ya bukan tempat bulli ga jauh kaya...</td>\n",
       "      <td>3</td>\n",
       "    </tr>\n",
       "    <tr>\n",
       "      <th>7</th>\n",
       "      <td>karma hope bite kat butt nasti</td>\n",
       "      <td>3</td>\n",
       "    </tr>\n",
       "    <tr>\n",
       "      <th>8</th>\n",
       "      <td>everyth mostli priest</td>\n",
       "      <td>3</td>\n",
       "    </tr>\n",
       "    <tr>\n",
       "      <th>9</th>\n",
       "      <td>rebecca black drop school due bulli</td>\n",
       "      <td>3</td>\n",
       "    </tr>\n",
       "  </tbody>\n",
       "</table>\n",
       "</div>"
      ],
      "text/plain": [
       "                                          tweet_text  cyberbullying_type\n",
       "0                                word food crapilici                   3\n",
       "1                                              white                   3\n",
       "2                     classi whore red velvet cupcak                   3\n",
       "3  meh p thank head concern anoth angri dude twitter                   3\n",
       "4  isi account pretend kurdish account like islam...                   3\n",
       "5  ye test god good bad indiffer weird whatev pro...                   3\n",
       "6  itu sekolah ya bukan tempat bulli ga jauh kaya...                   3\n",
       "7                     karma hope bite kat butt nasti                   3\n",
       "8                              everyth mostli priest                   3\n",
       "9                rebecca black drop school due bulli                   3"
      ]
     },
     "execution_count": 12,
     "metadata": {},
     "output_type": "execute_result"
    }
   ],
   "source": [
    "data.head(10)"
   ]
  },
  {
   "cell_type": "markdown",
   "metadata": {},
   "source": [
    "-----------\n",
    "\n",
    "##### **Preparación de Modelos**\n",
    "\n",
    "Para este proyecto, se crearon 2 modelos diferentes.\n",
    "\n",
    "El primer modelo es un modelo de **clasificación binaria**. Este modelo tiene como objetivo clasificar los tweets en 2 clases: cyberbullying y no cyberbullying. Para ello, se utilizó la columna 'cyberbullying_type' del dataset.\n",
    "\n",
    "El segundo modelo se centra en **detectar el tipo de ciberacoso** presente, considerando la edad, género, religión y etnia como posibles categorías.\n",
    "\n",
    "\n",
    "Se busca crear 2 modelos para pasarle al primero un tweet y que este nos diga si representa ciberacoso o no. En caso de que el tweet represente ciberacoso, se le pasará al segundo modelo para que nos diga qué tipo de ciberacoso es."
   ]
  },
  {
   "cell_type": "code",
   "execution_count": 13,
   "metadata": {},
   "outputs": [
    {
     "name": "stdout",
     "output_type": "stream",
     "text": [
      "\n",
      "Modelo 1: Cyberbullying vs. Not Cyberbullying\n",
      "\n",
      "cyberbullying_type\n",
      "0    7937\n",
      "1    7936\n",
      "Name: count, dtype: int64\n"
     ]
    }
   ],
   "source": [
    "modelo1 = data.__deepcopy__()\n",
    "modelo2 = data.__deepcopy__()\n",
    "\n",
    "# Modelo 1: Cyberbullying vs. Not Cyberbullying\n",
    "\n",
    "# Separate `not_cyberbullying` and `cyberbullying` data\n",
    "not_cyberbullying = modelo1[modelo1['cyberbullying_type'] == 3]\n",
    "age = modelo1[modelo1['cyberbullying_type'] == 0]\n",
    "ethnicity = modelo1[modelo1['cyberbullying_type'] == 1]\n",
    "gender = modelo1[modelo1['cyberbullying_type'] == 2]\n",
    "religion = modelo1[modelo1['cyberbullying_type'] == 4]\n",
    "\n",
    "sample_size = int(len(not_cyberbullying)/4)\n",
    "sampled_age = age.sample(n=sample_size, replace=True, random_state=42)\n",
    "sampled_gender = gender.sample(n=sample_size, replace=True, random_state=42)\n",
    "sampled_religion = religion.sample(n=sample_size, replace=True, random_state=42)\n",
    "sampled_ethnicity = ethnicity.sample(n=sample_size, replace=True, random_state=42)\n",
    "\n",
    "# Combine `sampled_cyberbullying` and `not_cyberbullying` data to create a new balanced dataframe\n",
    "modelo1 = pd.concat([not_cyberbullying, sampled_gender, sampled_age, sampled_ethnicity, sampled_religion])\n",
    "\n",
    "# Remplazar label age, gender, religion, ethnicity por 1\n",
    "modelo1['cyberbullying_type'] = modelo1['cyberbullying_type'].replace([0, 1, 2, 4], 1)\n",
    "\n",
    "# Remplazar label not_cyberbullying por 0\n",
    "modelo1['cyberbullying_type'] = modelo1['cyberbullying_type'].replace([3], 0)\n",
    "\n",
    "# Contar la frecuencia de cada valor único en la columna \"cyberbullying_type\"\n",
    "frecuencias = modelo1['cyberbullying_type'].value_counts()\n",
    "\n",
    "# Mostrar los resultados\n",
    "print(\"\\nModelo 1: Cyberbullying vs. Not Cyberbullying\\n\")\n",
    "print(frecuencias)"
   ]
  },
  {
   "cell_type": "code",
   "execution_count": 14,
   "metadata": {},
   "outputs": [
    {
     "name": "stdout",
     "output_type": "stream",
     "text": [
      "\n",
      "Modelo 2: Cyberbullying Type\n",
      "\n",
      "cyberbullying_type\n",
      "0    7979\n",
      "2    7947\n",
      "3    7937\n",
      "1    7894\n",
      "Name: count, dtype: int64\n"
     ]
    }
   ],
   "source": [
    "# Modelo 2: Tipos de Cyberbullying\n",
    "\n",
    "# Separate `not_cyberbullying` and `cyberbullying` data\n",
    "age = modelo2[modelo2['cyberbullying_type'] == 0]\n",
    "gender = modelo2[modelo2['cyberbullying_type'] == 2]\n",
    "religion = modelo2[modelo2['cyberbullying_type'] == 3]\n",
    "ethnicity = modelo2[modelo2['cyberbullying_type'] == 1]\n",
    "\n",
    "# Combine `sampled_cyberbullying` and `not_cyberbullying` data to create a new balanced dataframe\n",
    "modelo2 = pd.concat([gender, age, ethnicity, religion])\n",
    "\n",
    "# Contar la frecuencia de cada valor único en la columna \"cyberbullying_type\"\n",
    "frecuencias = modelo2['cyberbullying_type'].value_counts()\n",
    "\n",
    "# Mostrar los resultados\n",
    "print(\"\\nModelo 2: Cyberbullying Type\\n\")\n",
    "print(frecuencias)"
   ]
  },
  {
   "cell_type": "markdown",
   "metadata": {},
   "source": [
    "Con los dos datasets creados, se procedió a **dividirlos en datos de entrenamiento y datos de prueba**. Para ello, se utilizó la función 'train_test_split()' de la librería 'sklearn.model_selection'.\n",
    "\n"
   ]
  },
  {
   "cell_type": "code",
   "execution_count": 15,
   "metadata": {},
   "outputs": [],
   "source": [
    "X_train_m1, X_test_m1, y_train_m1, y_test_m1 = train_test_split(modelo1['tweet_text'], modelo1['cyberbullying_type'], test_size=0.2, random_state=42)\n",
    "\n",
    "X_train_m2, X_test_m2, y_train_m2, y_test_m2 = train_test_split(modelo2['tweet_text'], modelo2['cyberbullying_type'], test_size=0.2, random_state=42)"
   ]
  },
  {
   "cell_type": "markdown",
   "metadata": {},
   "source": [
    "-----------\n",
    "\n",
    "##### **Diseño y Entrenamiento de Modelos (LSTM)**\n",
    "\n",
    "Como primer paso, se tokenizaron los tweets para poder alimentar los modelos LSTM. Para ello, se utilizó la función 'Tokenizer()' de la librería 'keras.preprocessing.text'."
   ]
  },
  {
   "cell_type": "code",
   "execution_count": 16,
   "metadata": {},
   "outputs": [],
   "source": [
    "# Tokenización de texto de Modelo 1\n",
    "tokenizer1 = Tokenizer()\n",
    "tokenizer1.fit_on_texts(X_train_m1)\n",
    "X_train_sequences_m1 = tokenizer1.texts_to_sequences(X_train_m1)\n",
    "X_valid_sequences_m1 = tokenizer1.texts_to_sequences(X_test_m1)\n",
    "\n",
    "# Tokenización de texto de Modelo 2\n",
    "tokenizer2 = Tokenizer()\n",
    "tokenizer2.fit_on_texts(X_train_m2)\n",
    "X_train_sequences_m2 = tokenizer2.texts_to_sequences(X_train_m2)\n",
    "X_valid_sequences_m2 = tokenizer2.texts_to_sequences(X_test_m2)"
   ]
  },
  {
   "cell_type": "markdown",
   "metadata": {},
   "source": [
    "Posteriormente, se secuenció y rellenó los diferentes comentarios para que todos tengan una longitud uniforme. En este caso se utilizó una longitud 200.\n",
    "\n",
    "sequence.pad_sequences es una función de Keras que se utiliza para rellenar las secuencias. Si se pasa del largo máximo, se trunca la secuencia. Si es menor, se rellena con ceros."
   ]
  },
  {
   "cell_type": "code",
   "execution_count": 17,
   "metadata": {},
   "outputs": [],
   "source": [
    "# Padding de secuencias para que tengan la misma longitud\n",
    "max_length = 250  # longitud máxima de una secuencia\n",
    "\n",
    "X_train_m1_padded = pad_sequences(X_train_sequences_m1, maxlen=max_length)\n",
    "X_valid_m1_padded = pad_sequences(X_valid_sequences_m1, maxlen=max_length)\n",
    "\n",
    "X_train_m2_padded = pad_sequences(X_train_sequences_m2, maxlen=max_length)\n",
    "X_valid_m2_padded = pad_sequences(X_valid_sequences_m2, maxlen=max_length)"
   ]
  },
  {
   "cell_type": "markdown",
   "metadata": {},
   "source": [
    "Cuando ya se tenía los datos de entrenamiento y prueba, se procedió a **diseñar y entrenar el primer modelo**. Para ello, se utilizó la función 'Sequential()' de la librería 'keras.models'."
   ]
  },
  {
   "cell_type": "code",
   "execution_count": 18,
   "metadata": {},
   "outputs": [
    {
     "name": "stdout",
     "output_type": "stream",
     "text": [
      "Epoch 1/5\n",
      "100/100 [==============================] - 67s 657ms/step - loss: 0.3863 - accuracy: 0.8375 - val_loss: 0.2567 - val_accuracy: 0.9005\n",
      "Epoch 2/5\n",
      "100/100 [==============================] - 65s 647ms/step - loss: 0.1819 - accuracy: 0.9347 - val_loss: 0.2117 - val_accuracy: 0.9241\n",
      "Epoch 3/5\n",
      "100/100 [==============================] - 65s 652ms/step - loss: 0.1246 - accuracy: 0.9583 - val_loss: 0.2265 - val_accuracy: 0.9206\n",
      "Test Loss: 0.2117236703634262, Test Accuracy: 0.9240944981575012\n"
     ]
    },
    {
     "name": "stderr",
     "output_type": "stream",
     "text": [
      "/Library/Frameworks/Python.framework/Versions/3.9/lib/python3.9/site-packages/keras/src/engine/training.py:3079: UserWarning: You are saving your model as an HDF5 file via `model.save()`. This file format is considered legacy. We recommend using instead the native Keras format, e.g. `model.save('my_model.keras')`.\n",
      "  saving_api.save_model(\n"
     ]
    }
   ],
   "source": [
    "# ---------------------- Modelo 1 ----------------------\n",
    "\n",
    "# Crear modelo\n",
    "model1_lstm = Sequential()\n",
    "model1_lstm.add(Embedding(input_dim=len(tokenizer1.word_index)+1, output_dim=128, input_length=max_length))\n",
    "\n",
    "model1_lstm.add(LSTM(units=64, dropout=0.2, recurrent_dropout=0.2, return_sequences=True))\n",
    "model1_lstm.add(LSTM(units=32, dropout=0.2, recurrent_dropout=0.2, return_sequences=False))\n",
    "\n",
    "model1_lstm.add(Dense(units=16, activation='relu'))\n",
    "\n",
    "model1_lstm.add(Dense(units=1, activation='sigmoid'))\n",
    "\n",
    "# Compilar modelo\n",
    "model1_lstm.compile(loss='binary_crossentropy', optimizer='adam', metrics=['accuracy'])\n",
    "\n",
    "# Early stopping\n",
    "early_stopping = EarlyStopping(monitor='val_loss', patience=1, restore_best_weights=True)\n",
    "\n",
    "# Entrenar modelo\n",
    "model1_lstm.fit(X_train_m1_padded, y_train_m1, batch_size=128, epochs=5, validation_data=(X_valid_m1_padded, y_test_m1), callbacks=[early_stopping])\n",
    "\n",
    "# Resultados de entrenamiento\n",
    "loss, accuracy = model1_lstm.evaluate(X_valid_m1_padded, y_test_m1, verbose=False)\n",
    "print(f\"Test Loss: {loss}, Test Accuracy: {accuracy}\")\n",
    "\n",
    "# Guardar modelo\n",
    "model1_lstm.save('model1_lstm.h5')"
   ]
  },
  {
   "cell_type": "code",
   "execution_count": 19,
   "metadata": {},
   "outputs": [
    {
     "name": "stdout",
     "output_type": "stream",
     "text": [
      "Epoch 1/5\n",
      "119/199 [================>.............] - ETA: 51s - loss: 0.7799 - accuracy: 0.6515"
     ]
    },
    {
     "ename": "KeyboardInterrupt",
     "evalue": "",
     "output_type": "error",
     "traceback": [
      "\u001b[0;31m---------------------------------------------------------------------------\u001b[0m",
      "\u001b[0;31mKeyboardInterrupt\u001b[0m                         Traceback (most recent call last)",
      "\u001b[1;32m/Users/stefanoaragoni/Documents/GitHub/ProyectoDeepLearning/proyecto.ipynb Cell 34\u001b[0m line \u001b[0;36m2\n\u001b[1;32m     <a href='vscode-notebook-cell:/Users/stefanoaragoni/Documents/GitHub/ProyectoDeepLearning/proyecto.ipynb#X45sZmlsZQ%3D%3D?line=17'>18</a>\u001b[0m early_stopping \u001b[39m=\u001b[39m EarlyStopping(monitor\u001b[39m=\u001b[39m\u001b[39m'\u001b[39m\u001b[39mval_loss\u001b[39m\u001b[39m'\u001b[39m, patience\u001b[39m=\u001b[39m\u001b[39m1\u001b[39m, restore_best_weights\u001b[39m=\u001b[39m\u001b[39mTrue\u001b[39;00m)\n\u001b[1;32m     <a href='vscode-notebook-cell:/Users/stefanoaragoni/Documents/GitHub/ProyectoDeepLearning/proyecto.ipynb#X45sZmlsZQ%3D%3D?line=19'>20</a>\u001b[0m \u001b[39m# Entrenar modelo\u001b[39;00m\n\u001b[0;32m---> <a href='vscode-notebook-cell:/Users/stefanoaragoni/Documents/GitHub/ProyectoDeepLearning/proyecto.ipynb#X45sZmlsZQ%3D%3D?line=20'>21</a>\u001b[0m model2_lstm\u001b[39m.\u001b[39;49mfit(X_train_m2_padded, y_train_m2, batch_size\u001b[39m=\u001b[39;49m\u001b[39m128\u001b[39;49m, epochs\u001b[39m=\u001b[39;49m\u001b[39m5\u001b[39;49m, validation_data\u001b[39m=\u001b[39;49m(X_valid_m2_padded, y_test_m2), callbacks\u001b[39m=\u001b[39;49m[early_stopping])\n\u001b[1;32m     <a href='vscode-notebook-cell:/Users/stefanoaragoni/Documents/GitHub/ProyectoDeepLearning/proyecto.ipynb#X45sZmlsZQ%3D%3D?line=22'>23</a>\u001b[0m \u001b[39m# Resultados de entrenamiento\u001b[39;00m\n\u001b[1;32m     <a href='vscode-notebook-cell:/Users/stefanoaragoni/Documents/GitHub/ProyectoDeepLearning/proyecto.ipynb#X45sZmlsZQ%3D%3D?line=23'>24</a>\u001b[0m loss, accuracy \u001b[39m=\u001b[39m model2_lstm\u001b[39m.\u001b[39mevaluate(X_valid_m2_padded, y_test_m2, verbose\u001b[39m=\u001b[39m\u001b[39mFalse\u001b[39;00m)\n",
      "File \u001b[0;32m/Library/Frameworks/Python.framework/Versions/3.9/lib/python3.9/site-packages/keras/src/utils/traceback_utils.py:65\u001b[0m, in \u001b[0;36mfilter_traceback.<locals>.error_handler\u001b[0;34m(*args, **kwargs)\u001b[0m\n\u001b[1;32m     63\u001b[0m filtered_tb \u001b[39m=\u001b[39m \u001b[39mNone\u001b[39;00m\n\u001b[1;32m     64\u001b[0m \u001b[39mtry\u001b[39;00m:\n\u001b[0;32m---> 65\u001b[0m     \u001b[39mreturn\u001b[39;00m fn(\u001b[39m*\u001b[39;49margs, \u001b[39m*\u001b[39;49m\u001b[39m*\u001b[39;49mkwargs)\n\u001b[1;32m     66\u001b[0m \u001b[39mexcept\u001b[39;00m \u001b[39mException\u001b[39;00m \u001b[39mas\u001b[39;00m e:\n\u001b[1;32m     67\u001b[0m     filtered_tb \u001b[39m=\u001b[39m _process_traceback_frames(e\u001b[39m.\u001b[39m__traceback__)\n",
      "File \u001b[0;32m/Library/Frameworks/Python.framework/Versions/3.9/lib/python3.9/site-packages/keras/src/engine/training.py:1783\u001b[0m, in \u001b[0;36mModel.fit\u001b[0;34m(self, x, y, batch_size, epochs, verbose, callbacks, validation_split, validation_data, shuffle, class_weight, sample_weight, initial_epoch, steps_per_epoch, validation_steps, validation_batch_size, validation_freq, max_queue_size, workers, use_multiprocessing)\u001b[0m\n\u001b[1;32m   1775\u001b[0m \u001b[39mwith\u001b[39;00m tf\u001b[39m.\u001b[39mprofiler\u001b[39m.\u001b[39mexperimental\u001b[39m.\u001b[39mTrace(\n\u001b[1;32m   1776\u001b[0m     \u001b[39m\"\u001b[39m\u001b[39mtrain\u001b[39m\u001b[39m\"\u001b[39m,\n\u001b[1;32m   1777\u001b[0m     epoch_num\u001b[39m=\u001b[39mepoch,\n\u001b[0;32m   (...)\u001b[0m\n\u001b[1;32m   1780\u001b[0m     _r\u001b[39m=\u001b[39m\u001b[39m1\u001b[39m,\n\u001b[1;32m   1781\u001b[0m ):\n\u001b[1;32m   1782\u001b[0m     callbacks\u001b[39m.\u001b[39mon_train_batch_begin(step)\n\u001b[0;32m-> 1783\u001b[0m     tmp_logs \u001b[39m=\u001b[39m \u001b[39mself\u001b[39;49m\u001b[39m.\u001b[39;49mtrain_function(iterator)\n\u001b[1;32m   1784\u001b[0m     \u001b[39mif\u001b[39;00m data_handler\u001b[39m.\u001b[39mshould_sync:\n\u001b[1;32m   1785\u001b[0m         context\u001b[39m.\u001b[39masync_wait()\n",
      "File \u001b[0;32m/Library/Frameworks/Python.framework/Versions/3.9/lib/python3.9/site-packages/tensorflow/python/util/traceback_utils.py:150\u001b[0m, in \u001b[0;36mfilter_traceback.<locals>.error_handler\u001b[0;34m(*args, **kwargs)\u001b[0m\n\u001b[1;32m    148\u001b[0m filtered_tb \u001b[39m=\u001b[39m \u001b[39mNone\u001b[39;00m\n\u001b[1;32m    149\u001b[0m \u001b[39mtry\u001b[39;00m:\n\u001b[0;32m--> 150\u001b[0m   \u001b[39mreturn\u001b[39;00m fn(\u001b[39m*\u001b[39;49margs, \u001b[39m*\u001b[39;49m\u001b[39m*\u001b[39;49mkwargs)\n\u001b[1;32m    151\u001b[0m \u001b[39mexcept\u001b[39;00m \u001b[39mException\u001b[39;00m \u001b[39mas\u001b[39;00m e:\n\u001b[1;32m    152\u001b[0m   filtered_tb \u001b[39m=\u001b[39m _process_traceback_frames(e\u001b[39m.\u001b[39m__traceback__)\n",
      "File \u001b[0;32m/Library/Frameworks/Python.framework/Versions/3.9/lib/python3.9/site-packages/tensorflow/python/eager/polymorphic_function/polymorphic_function.py:831\u001b[0m, in \u001b[0;36mFunction.__call__\u001b[0;34m(self, *args, **kwds)\u001b[0m\n\u001b[1;32m    828\u001b[0m compiler \u001b[39m=\u001b[39m \u001b[39m\"\u001b[39m\u001b[39mxla\u001b[39m\u001b[39m\"\u001b[39m \u001b[39mif\u001b[39;00m \u001b[39mself\u001b[39m\u001b[39m.\u001b[39m_jit_compile \u001b[39melse\u001b[39;00m \u001b[39m\"\u001b[39m\u001b[39mnonXla\u001b[39m\u001b[39m\"\u001b[39m\n\u001b[1;32m    830\u001b[0m \u001b[39mwith\u001b[39;00m OptionalXlaContext(\u001b[39mself\u001b[39m\u001b[39m.\u001b[39m_jit_compile):\n\u001b[0;32m--> 831\u001b[0m   result \u001b[39m=\u001b[39m \u001b[39mself\u001b[39;49m\u001b[39m.\u001b[39;49m_call(\u001b[39m*\u001b[39;49margs, \u001b[39m*\u001b[39;49m\u001b[39m*\u001b[39;49mkwds)\n\u001b[1;32m    833\u001b[0m new_tracing_count \u001b[39m=\u001b[39m \u001b[39mself\u001b[39m\u001b[39m.\u001b[39mexperimental_get_tracing_count()\n\u001b[1;32m    834\u001b[0m without_tracing \u001b[39m=\u001b[39m (tracing_count \u001b[39m==\u001b[39m new_tracing_count)\n",
      "File \u001b[0;32m/Library/Frameworks/Python.framework/Versions/3.9/lib/python3.9/site-packages/tensorflow/python/eager/polymorphic_function/polymorphic_function.py:867\u001b[0m, in \u001b[0;36mFunction._call\u001b[0;34m(self, *args, **kwds)\u001b[0m\n\u001b[1;32m    864\u001b[0m   \u001b[39mself\u001b[39m\u001b[39m.\u001b[39m_lock\u001b[39m.\u001b[39mrelease()\n\u001b[1;32m    865\u001b[0m   \u001b[39m# In this case we have created variables on the first call, so we run the\u001b[39;00m\n\u001b[1;32m    866\u001b[0m   \u001b[39m# defunned version which is guaranteed to never create variables.\u001b[39;00m\n\u001b[0;32m--> 867\u001b[0m   \u001b[39mreturn\u001b[39;00m tracing_compilation\u001b[39m.\u001b[39;49mcall_function(\n\u001b[1;32m    868\u001b[0m       args, kwds, \u001b[39mself\u001b[39;49m\u001b[39m.\u001b[39;49m_no_variable_creation_config\n\u001b[1;32m    869\u001b[0m   )\n\u001b[1;32m    870\u001b[0m \u001b[39melif\u001b[39;00m \u001b[39mself\u001b[39m\u001b[39m.\u001b[39m_variable_creation_config \u001b[39mis\u001b[39;00m \u001b[39mnot\u001b[39;00m \u001b[39mNone\u001b[39;00m:\n\u001b[1;32m    871\u001b[0m   \u001b[39m# Release the lock early so that multiple threads can perform the call\u001b[39;00m\n\u001b[1;32m    872\u001b[0m   \u001b[39m# in parallel.\u001b[39;00m\n\u001b[1;32m    873\u001b[0m   \u001b[39mself\u001b[39m\u001b[39m.\u001b[39m_lock\u001b[39m.\u001b[39mrelease()\n",
      "File \u001b[0;32m/Library/Frameworks/Python.framework/Versions/3.9/lib/python3.9/site-packages/tensorflow/python/eager/polymorphic_function/tracing_compilation.py:139\u001b[0m, in \u001b[0;36mcall_function\u001b[0;34m(args, kwargs, tracing_options)\u001b[0m\n\u001b[1;32m    137\u001b[0m bound_args \u001b[39m=\u001b[39m function\u001b[39m.\u001b[39mfunction_type\u001b[39m.\u001b[39mbind(\u001b[39m*\u001b[39margs, \u001b[39m*\u001b[39m\u001b[39m*\u001b[39mkwargs)\n\u001b[1;32m    138\u001b[0m flat_inputs \u001b[39m=\u001b[39m function\u001b[39m.\u001b[39mfunction_type\u001b[39m.\u001b[39munpack_inputs(bound_args)\n\u001b[0;32m--> 139\u001b[0m \u001b[39mreturn\u001b[39;00m function\u001b[39m.\u001b[39;49m_call_flat(  \u001b[39m# pylint: disable=protected-access\u001b[39;49;00m\n\u001b[1;32m    140\u001b[0m     flat_inputs, captured_inputs\u001b[39m=\u001b[39;49mfunction\u001b[39m.\u001b[39;49mcaptured_inputs\n\u001b[1;32m    141\u001b[0m )\n",
      "File \u001b[0;32m/Library/Frameworks/Python.framework/Versions/3.9/lib/python3.9/site-packages/tensorflow/python/eager/polymorphic_function/concrete_function.py:1264\u001b[0m, in \u001b[0;36mConcreteFunction._call_flat\u001b[0;34m(self, tensor_inputs, captured_inputs)\u001b[0m\n\u001b[1;32m   1260\u001b[0m possible_gradient_type \u001b[39m=\u001b[39m gradients_util\u001b[39m.\u001b[39mPossibleTapeGradientTypes(args)\n\u001b[1;32m   1261\u001b[0m \u001b[39mif\u001b[39;00m (possible_gradient_type \u001b[39m==\u001b[39m gradients_util\u001b[39m.\u001b[39mPOSSIBLE_GRADIENT_TYPES_NONE\n\u001b[1;32m   1262\u001b[0m     \u001b[39mand\u001b[39;00m executing_eagerly):\n\u001b[1;32m   1263\u001b[0m   \u001b[39m# No tape is watching; skip to running the function.\u001b[39;00m\n\u001b[0;32m-> 1264\u001b[0m   \u001b[39mreturn\u001b[39;00m \u001b[39mself\u001b[39;49m\u001b[39m.\u001b[39;49m_inference_function\u001b[39m.\u001b[39;49mflat_call(args)\n\u001b[1;32m   1265\u001b[0m forward_backward \u001b[39m=\u001b[39m \u001b[39mself\u001b[39m\u001b[39m.\u001b[39m_select_forward_and_backward_functions(\n\u001b[1;32m   1266\u001b[0m     args,\n\u001b[1;32m   1267\u001b[0m     possible_gradient_type,\n\u001b[1;32m   1268\u001b[0m     executing_eagerly)\n\u001b[1;32m   1269\u001b[0m forward_function, args_with_tangents \u001b[39m=\u001b[39m forward_backward\u001b[39m.\u001b[39mforward()\n",
      "File \u001b[0;32m/Library/Frameworks/Python.framework/Versions/3.9/lib/python3.9/site-packages/tensorflow/python/eager/polymorphic_function/atomic_function.py:217\u001b[0m, in \u001b[0;36mAtomicFunction.flat_call\u001b[0;34m(self, args)\u001b[0m\n\u001b[1;32m    215\u001b[0m \u001b[39mdef\u001b[39;00m \u001b[39mflat_call\u001b[39m(\u001b[39mself\u001b[39m, args: Sequence[core\u001b[39m.\u001b[39mTensor]) \u001b[39m-\u001b[39m\u001b[39m>\u001b[39m Any:\n\u001b[1;32m    216\u001b[0m \u001b[39m  \u001b[39m\u001b[39m\"\"\"Calls with tensor inputs and returns the structured output.\"\"\"\u001b[39;00m\n\u001b[0;32m--> 217\u001b[0m   flat_outputs \u001b[39m=\u001b[39m \u001b[39mself\u001b[39;49m(\u001b[39m*\u001b[39;49margs)\n\u001b[1;32m    218\u001b[0m   \u001b[39mreturn\u001b[39;00m \u001b[39mself\u001b[39m\u001b[39m.\u001b[39mfunction_type\u001b[39m.\u001b[39mpack_output(flat_outputs)\n",
      "File \u001b[0;32m/Library/Frameworks/Python.framework/Versions/3.9/lib/python3.9/site-packages/tensorflow/python/eager/polymorphic_function/atomic_function.py:252\u001b[0m, in \u001b[0;36mAtomicFunction.__call__\u001b[0;34m(self, *args)\u001b[0m\n\u001b[1;32m    250\u001b[0m \u001b[39mwith\u001b[39;00m record\u001b[39m.\u001b[39mstop_recording():\n\u001b[1;32m    251\u001b[0m   \u001b[39mif\u001b[39;00m \u001b[39mself\u001b[39m\u001b[39m.\u001b[39m_bound_context\u001b[39m.\u001b[39mexecuting_eagerly():\n\u001b[0;32m--> 252\u001b[0m     outputs \u001b[39m=\u001b[39m \u001b[39mself\u001b[39;49m\u001b[39m.\u001b[39;49m_bound_context\u001b[39m.\u001b[39;49mcall_function(\n\u001b[1;32m    253\u001b[0m         \u001b[39mself\u001b[39;49m\u001b[39m.\u001b[39;49mname,\n\u001b[1;32m    254\u001b[0m         \u001b[39mlist\u001b[39;49m(args),\n\u001b[1;32m    255\u001b[0m         \u001b[39mlen\u001b[39;49m(\u001b[39mself\u001b[39;49m\u001b[39m.\u001b[39;49mfunction_type\u001b[39m.\u001b[39;49mflat_outputs),\n\u001b[1;32m    256\u001b[0m     )\n\u001b[1;32m    257\u001b[0m   \u001b[39melse\u001b[39;00m:\n\u001b[1;32m    258\u001b[0m     outputs \u001b[39m=\u001b[39m make_call_op_in_graph(\n\u001b[1;32m    259\u001b[0m         \u001b[39mself\u001b[39m,\n\u001b[1;32m    260\u001b[0m         \u001b[39mlist\u001b[39m(args),\n\u001b[1;32m    261\u001b[0m         \u001b[39mself\u001b[39m\u001b[39m.\u001b[39m_bound_context\u001b[39m.\u001b[39mfunction_call_options\u001b[39m.\u001b[39mas_attrs(),\n\u001b[1;32m    262\u001b[0m     )\n",
      "File \u001b[0;32m/Library/Frameworks/Python.framework/Versions/3.9/lib/python3.9/site-packages/tensorflow/python/eager/context.py:1479\u001b[0m, in \u001b[0;36mContext.call_function\u001b[0;34m(self, name, tensor_inputs, num_outputs)\u001b[0m\n\u001b[1;32m   1477\u001b[0m cancellation_context \u001b[39m=\u001b[39m cancellation\u001b[39m.\u001b[39mcontext()\n\u001b[1;32m   1478\u001b[0m \u001b[39mif\u001b[39;00m cancellation_context \u001b[39mis\u001b[39;00m \u001b[39mNone\u001b[39;00m:\n\u001b[0;32m-> 1479\u001b[0m   outputs \u001b[39m=\u001b[39m execute\u001b[39m.\u001b[39;49mexecute(\n\u001b[1;32m   1480\u001b[0m       name\u001b[39m.\u001b[39;49mdecode(\u001b[39m\"\u001b[39;49m\u001b[39mutf-8\u001b[39;49m\u001b[39m\"\u001b[39;49m),\n\u001b[1;32m   1481\u001b[0m       num_outputs\u001b[39m=\u001b[39;49mnum_outputs,\n\u001b[1;32m   1482\u001b[0m       inputs\u001b[39m=\u001b[39;49mtensor_inputs,\n\u001b[1;32m   1483\u001b[0m       attrs\u001b[39m=\u001b[39;49mattrs,\n\u001b[1;32m   1484\u001b[0m       ctx\u001b[39m=\u001b[39;49m\u001b[39mself\u001b[39;49m,\n\u001b[1;32m   1485\u001b[0m   )\n\u001b[1;32m   1486\u001b[0m \u001b[39melse\u001b[39;00m:\n\u001b[1;32m   1487\u001b[0m   outputs \u001b[39m=\u001b[39m execute\u001b[39m.\u001b[39mexecute_with_cancellation(\n\u001b[1;32m   1488\u001b[0m       name\u001b[39m.\u001b[39mdecode(\u001b[39m\"\u001b[39m\u001b[39mutf-8\u001b[39m\u001b[39m\"\u001b[39m),\n\u001b[1;32m   1489\u001b[0m       num_outputs\u001b[39m=\u001b[39mnum_outputs,\n\u001b[0;32m   (...)\u001b[0m\n\u001b[1;32m   1493\u001b[0m       cancellation_manager\u001b[39m=\u001b[39mcancellation_context,\n\u001b[1;32m   1494\u001b[0m   )\n",
      "File \u001b[0;32m/Library/Frameworks/Python.framework/Versions/3.9/lib/python3.9/site-packages/tensorflow/python/eager/execute.py:60\u001b[0m, in \u001b[0;36mquick_execute\u001b[0;34m(op_name, num_outputs, inputs, attrs, ctx, name)\u001b[0m\n\u001b[1;32m     53\u001b[0m   \u001b[39m# Convert any objects of type core_types.Tensor to Tensor.\u001b[39;00m\n\u001b[1;32m     54\u001b[0m   inputs \u001b[39m=\u001b[39m [\n\u001b[1;32m     55\u001b[0m       tensor_conversion_registry\u001b[39m.\u001b[39mconvert(t)\n\u001b[1;32m     56\u001b[0m       \u001b[39mif\u001b[39;00m \u001b[39misinstance\u001b[39m(t, core_types\u001b[39m.\u001b[39mTensor)\n\u001b[1;32m     57\u001b[0m       \u001b[39melse\u001b[39;00m t\n\u001b[1;32m     58\u001b[0m       \u001b[39mfor\u001b[39;00m t \u001b[39min\u001b[39;00m inputs\n\u001b[1;32m     59\u001b[0m   ]\n\u001b[0;32m---> 60\u001b[0m   tensors \u001b[39m=\u001b[39m pywrap_tfe\u001b[39m.\u001b[39;49mTFE_Py_Execute(ctx\u001b[39m.\u001b[39;49m_handle, device_name, op_name,\n\u001b[1;32m     61\u001b[0m                                       inputs, attrs, num_outputs)\n\u001b[1;32m     62\u001b[0m \u001b[39mexcept\u001b[39;00m core\u001b[39m.\u001b[39m_NotOkStatusException \u001b[39mas\u001b[39;00m e:\n\u001b[1;32m     63\u001b[0m   \u001b[39mif\u001b[39;00m name \u001b[39mis\u001b[39;00m \u001b[39mnot\u001b[39;00m \u001b[39mNone\u001b[39;00m:\n",
      "\u001b[0;31mKeyboardInterrupt\u001b[0m: "
     ]
    }
   ],
   "source": [
    "# ---------------------- Modelo 2 ----------------------\n",
    "\n",
    "# Crear modelo\n",
    "model2_lstm = Sequential()\n",
    "model2_lstm.add(Embedding(input_dim=len(tokenizer2.word_index)+1, output_dim=128, input_length=max_length))\n",
    "\n",
    "model2_lstm.add(LSTM(units=64, dropout=0.2, recurrent_dropout=0.2, return_sequences=True))\n",
    "model2_lstm.add(LSTM(units=32, dropout=0.2, recurrent_dropout=0.2, return_sequences=False))\n",
    "\n",
    "model2_lstm.add(Dense(units=16, activation='relu'))\n",
    "\n",
    "model2_lstm.add(Dense(units=4, activation='softmax'))\n",
    "\n",
    "# Compilar modelo\n",
    "model2_lstm.compile(loss='sparse_categorical_crossentropy', optimizer='adam', metrics=['accuracy'])\n",
    "\n",
    "# Early stopping\n",
    "early_stopping = EarlyStopping(monitor='val_loss', patience=1, restore_best_weights=True)\n",
    "\n",
    "# Entrenar modelo\n",
    "model2_lstm.fit(X_train_m2_padded, y_train_m2, batch_size=128, epochs=5, validation_data=(X_valid_m2_padded, y_test_m2), callbacks=[early_stopping])\n",
    "\n",
    "# Resultados de entrenamiento\n",
    "loss, accuracy = model2_lstm.evaluate(X_valid_m2_padded, y_test_m2, verbose=False)\n",
    "print(f\"Test Loss: {loss}, Test Accuracy: {accuracy}\")\n",
    "\n",
    "# Guardar modelo\n",
    "model2_lstm.save('model2_lstm.h5')"
   ]
  },
  {
   "cell_type": "markdown",
   "metadata": {},
   "source": [
    "Finalmente, se procedió a **evaluar los modelos**. Para ello, se utilizó classification_report de la librería 'sklearn.metrics'."
   ]
  },
  {
   "cell_type": "code",
   "execution_count": null,
   "metadata": {},
   "outputs": [
    {
     "name": "stdout",
     "output_type": "stream",
     "text": [
      "100/100 [==============================] - 7s 63ms/step\n",
      "              precision    recall  f1-score   support\n",
      "\n",
      "           0       0.90      0.95      0.93      1571\n",
      "           1       0.95      0.90      0.92      1604\n",
      "\n",
      "    accuracy                           0.92      3175\n",
      "   macro avg       0.93      0.92      0.92      3175\n",
      "weighted avg       0.93      0.92      0.92      3175\n",
      "\n"
     ]
    }
   ],
   "source": [
    "# ---------------------- Modelo 1 ----------------------\n",
    "\n",
    "# classification report\n",
    "y_pred_m1 = model1_lstm.predict(X_valid_m1_padded)\n",
    "y_pred_m1 = np.round(y_pred_m1).astype(int)\n",
    "\n",
    "print(classification_report(y_test_m1, y_pred_m1))"
   ]
  },
  {
   "cell_type": "code",
   "execution_count": null,
   "metadata": {},
   "outputs": [
    {
     "name": "stdout",
     "output_type": "stream",
     "text": [
      "199/199 [==============================] - 14s 67ms/step\n",
      "              precision    recall  f1-score   support\n",
      "\n",
      "           0       0.98      0.98      0.98      1632\n",
      "           1       0.99      0.98      0.98      1542\n",
      "           2       0.92      0.87      0.89      1582\n",
      "           3       0.85      0.91      0.88      1596\n",
      "\n",
      "    accuracy                           0.93      6352\n",
      "   macro avg       0.93      0.93      0.93      6352\n",
      "weighted avg       0.93      0.93      0.93      6352\n",
      "\n"
     ]
    }
   ],
   "source": [
    "# ---------------------- Modelo 2 ----------------------\n",
    "\n",
    "# classification report\n",
    "y_pred_m2 = model2_lstm.predict(X_valid_m2_padded)\n",
    "y_pred_m2 = np.argmax(y_pred_m2, axis=1)\n",
    "\n",
    "print(classification_report(y_test_m2, y_pred_m2))"
   ]
  }
 ],
 "metadata": {
  "kernelspec": {
   "display_name": "Python 3",
   "language": "python",
   "name": "python3"
  },
  "language_info": {
   "codemirror_mode": {
    "name": "ipython",
    "version": 3
   },
   "file_extension": ".py",
   "mimetype": "text/x-python",
   "name": "python",
   "nbconvert_exporter": "python",
   "pygments_lexer": "ipython3",
   "version": "3.9.2"
  }
 },
 "nbformat": 4,
 "nbformat_minor": 2
}
